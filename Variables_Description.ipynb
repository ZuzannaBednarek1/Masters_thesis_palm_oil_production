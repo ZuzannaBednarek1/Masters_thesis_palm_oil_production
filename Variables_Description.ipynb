{
  "cells": [
    {
      "cell_type": "code",
      "execution_count": 112,
      "metadata": {},
      "outputs": [],
      "source": [
        "import pandas as pd\n",
        "import numpy as np\n",
        "import seaborn as sns\n",
        "import matplotlib.pyplot as plt\n",
        "from statsmodels.tsa.api import VAR\n",
        "from statsmodels.tsa.stattools import adfuller\n",
        "from statsmodels.tools.eval_measures import rmse, aic\n",
        "from sklearn.preprocessing import StandardScaler\n",
        "from statsmodels.tsa.stattools import grangercausalitytests\n",
        "import warnings\n",
        "from sklearn.tree import DecisionTreeRegressor\n",
        "from statsmodels.tsa.seasonal import seasonal_decompose\n",
        "from pylab import rcParams\n",
        "from sklearn.metrics import mean_squared_error\n",
        "import warnings\n",
        "from dateutil.relativedelta import relativedelta\n",
        "from datetime import datetime\n",
        "warnings.filterwarnings(\"ignore\")\n",
        "%matplotlib inline\n",
        "import statsmodels.api as sm\n",
        "from statsmodels.stats.outliers_influence import variance_inflation_factor"
      ]
    },
    {
      "cell_type": "code",
      "execution_count": null,
      "metadata": {
        "jupyter": {
          "outputs_hidden": false,
          "source_hidden": false
        },
        "nteract": {
          "transient": {
            "deleting": false
          }
        }
      },
      "outputs": [],
      "source": [
        "df = pd.read_excel('Dataset_palm_oil_forecasting.xlsx')\n",
        "ElNino = pd.read_excel('Elnino_Indicator.xlsx')"
      ]
    },
    {
      "cell_type": "code",
      "execution_count": 92,
      "metadata": {},
      "outputs": [],
      "source": [
        "df = df.merge(ElNino[['Date', 'ElNinoIndicator']], on='Date', how='left')"
      ]
    },
    {
      "cell_type": "code",
      "execution_count": 93,
      "metadata": {
        "jupyter": {
          "outputs_hidden": false,
          "source_hidden": false
        },
        "nteract": {
          "transient": {
            "deleting": false
          }
        }
      },
      "outputs": [],
      "source": [
        "df.head()"
      ]
    },
    {
      "cell_type": "code",
      "execution_count": 94,
      "metadata": {
        "jupyter": {
          "outputs_hidden": false,
          "source_hidden": false
        },
        "nteract": {
          "transient": {
            "deleting": false
          }
        }
      },
      "outputs": [],
      "source": [
        "df.columns"
      ]
    },
    {
      "cell_type": "code",
      "execution_count": 95,
      "metadata": {
        "jupyter": {
          "outputs_hidden": false,
          "source_hidden": false
        },
        "nteract": {
          "transient": {
            "deleting": false
          }
        }
      },
      "outputs": [],
      "source": [
        "df_regions = df.drop(['Evapo_weighted_avg',\n",
        "       'Precip_sum_weighted_avg', 'Temp_min_weighted_avg',\n",
        "       'Temp_max_weighted_avg', 'Wind_speed_weighted_avg', 'Temp_avg_weighted_avg', 'Days_temp_below_weighted_avg', 'Days_temp_above_weighted_avg',\n",
        "       'Amplitude_weighted_avg'], axis = 1)\n",
        "df_avg = df[['Date', 'Palm_Oil', 'Potash_Qty_kg/ha','Evapo_weighted_avg',\n",
        "       'Precip_sum_weighted_avg', 'Temp_min_weighted_avg',\n",
        "       'Temp_max_weighted_avg', 'Wind_speed_weighted_avg', 'Temp_avg_weighted_avg', 'Days_temp_below_weighted_avg', 'Days_temp_above_weighted_avg',\n",
        "       'Amplitude_weighted_avg', 'Sunshine_weighted_avg', 'ElNinoIndicator']]"
      ]
    },
    {
      "cell_type": "code",
      "execution_count": 96,
      "metadata": {
        "jupyter": {
          "outputs_hidden": false,
          "source_hidden": false
        },
        "nteract": {
          "transient": {
            "deleting": false
          }
        }
      },
      "outputs": [],
      "source": [
        "df_avg.describe(include=[np.number])"
      ]
    },
    {
      "cell_type": "code",
      "execution_count": 97,
      "metadata": {
        "jupyter": {
          "outputs_hidden": false,
          "source_hidden": false
        },
        "nteract": {
          "transient": {
            "deleting": false
          }
        }
      },
      "outputs": [],
      "source": [
        "df_regions.describe(include=[np.number])"
      ]
    },
    {
      "cell_type": "code",
      "execution_count": 98,
      "metadata": {
        "jupyter": {
          "outputs_hidden": false,
          "source_hidden": false
        },
        "nteract": {
          "transient": {
            "deleting": false
          }
        }
      },
      "outputs": [],
      "source": [
        "# List of regions and variables for line chart comparison\n",
        "regions = [\"JOHOR\", \"PAHANG\", \"SABAH\", \"SARAWAK\"]\n",
        "variables = [\"Evapo\", \"Precip_sum\", \"Temp_avg\", \"Temp_min\", \"Temp_max\", \"Wind_speed\", \"Amplitude\", \"Days_temp_above\", \"Days_temp_below\", \"Sunshine\"]\n",
        "\n",
        "# Loop through the variables to create line charts for each\n",
        "for variable in variables:\n",
        "    plt.figure(figsize=(12, 6))\n",
        "    for region in regions:\n",
        "        region_col = f\"{variable}_{region}\"\n",
        "        if region_col in df_regions.columns:\n",
        "            plt.plot(df_regions['Date'], df_regions[region_col], label=region)\n",
        "    \n",
        "    # Add chart details\n",
        "    plt.title(f\"{variable} Trends Across Regions\", fontsize=16)\n",
        "    plt.xlabel(\"Date\", fontsize=12)\n",
        "    plt.ylabel(variable.replace(\"_\", \" \"), fontsize=12)\n",
        "    plt.legend(title=\"Region\", fontsize=10)\n",
        "    plt.grid(True)\n",
        "    plt.tight_layout()\n",
        "    plt.show()"
      ]
    },
    {
      "cell_type": "code",
      "execution_count": 99,
      "metadata": {
        "jupyter": {
          "outputs_hidden": false,
          "source_hidden": false
        },
        "nteract": {
          "transient": {
            "deleting": false
          }
        }
      },
      "outputs": [],
      "source": [
        "plt.figure(figsize=(12, 6))\n",
        "plt.plot(df_avg['Date'], df_avg['Potash_Qty_kg/ha'])"
      ]
    },
    {
      "cell_type": "code",
      "execution_count": 100,
      "metadata": {},
      "outputs": [],
      "source": [
        "plt.figure(figsize=(12, 6))\n",
        "plt.plot(df_avg['Date'], df_avg['ElNinoIndicator'])"
      ]
    },
    {
      "cell_type": "markdown",
      "metadata": {
        "nteract": {
          "transient": {
            "deleting": false
          }
        }
      },
      "source": [
        "## Features elimination "
      ]
    },
    {
      "cell_type": "markdown",
      "metadata": {
        "nteract": {
          "transient": {
            "deleting": false
          }
        }
      },
      "source": [
        "#### Correlation heatmap"
      ]
    },
    {
      "cell_type": "markdown",
      "metadata": {
        "nteract": {
          "transient": {
            "deleting": false
          }
        }
      },
      "source": [
        "First step is to check correlation heatmap. We can eliminate one of two features where correlation is highly positive or negative. "
      ]
    },
    {
      "cell_type": "code",
      "execution_count": 101,
      "metadata": {
        "jupyter": {
          "outputs_hidden": false,
          "source_hidden": false
        },
        "nteract": {
          "transient": {
            "deleting": false
          }
        }
      },
      "outputs": [],
      "source": [
        "plt.figure(figsize=(10, 6))\n",
        "sns.heatmap(df_avg.corr(), annot=True, fmt=\".2f\", cmap = \"RdYlGn\", cbar=True)"
      ]
    },
    {
      "cell_type": "markdown",
      "metadata": {
        "nteract": {
          "transient": {
            "deleting": false
          }
        }
      },
      "source": [
        "##### Based on above heatmap we can eliminate:\n",
        "- **Precipitation** - it's negatively correlated with evapotranspiration (logically makes sense), we don't need to keep both of them\n",
        "- **Min, Max, Avg temperature** - we have other columns related to temperature like days above and below threshold, aplitude"
      ]
    },
    {
      "cell_type": "code",
      "execution_count": 102,
      "metadata": {
        "jupyter": {
          "outputs_hidden": false,
          "source_hidden": false
        },
        "nteract": {
          "transient": {
            "deleting": false
          }
        }
      },
      "outputs": [],
      "source": [
        "df_corr = df_avg.drop(['Precip_sum_weighted_avg', 'Temp_min_weighted_avg', 'Temp_max_weighted_avg', 'Temp_avg_weighted_avg'], axis = 1)\n",
        "df_corr = df_corr.dropna()\n",
        "plt.figure(figsize=(10, 6))\n",
        "sns.heatmap(df_corr.corr(), annot=True, fmt=\".2f\", cmap = \"RdYlGn\", cbar=True)"
      ]
    },
    {
      "cell_type": "code",
      "execution_count": 103,
      "metadata": {
        "jupyter": {
          "outputs_hidden": false,
          "source_hidden": false
        },
        "nteract": {
          "transient": {
            "deleting": false
          }
        }
      },
      "outputs": [],
      "source": [
        "df_corr = df_avg.drop(['Precip_sum_weighted_avg','Evapo_weighted_avg', 'Temp_min_weighted_avg', 'Temp_max_weighted_avg', 'Temp_avg_weighted_avg'], axis = 1)\n",
        "df_corr = df_corr.dropna()\n",
        "plt.figure(figsize=(10, 6))\n",
        "sns.heatmap(df_corr.corr(), annot=True, fmt=\".2f\", cmap = \"RdYlGn\", cbar=True)"
      ]
    },
    {
      "cell_type": "code",
      "execution_count": 104,
      "metadata": {
        "jupyter": {
          "outputs_hidden": false,
          "source_hidden": false
        },
        "nteract": {
          "transient": {
            "deleting": false
          }
        }
      },
      "outputs": [],
      "source": [
        "df_corr1 = df_avg[['Palm_Oil','Potash_Qty_kg/ha', \n",
        "       'Days_temp_below_weighted_avg',\n",
        "       'Days_temp_above_weighted_avg', 'Evapo_weighted_avg', 'ElNinoIndicator']]\n",
        "df_corr1 = df_corr1.dropna()\n",
        "plt.figure(figsize=(10, 6))\n",
        "sns.heatmap(df_corr1.corr(), annot=True, fmt=\".2f\", cmap = \"RdYlGn\", cbar=True)"
      ]
    },
    {
      "cell_type": "markdown",
      "metadata": {
        "nteract": {
          "transient": {
            "deleting": false
          }
        }
      },
      "source": [
        "#### VIF"
      ]
    },
    {
      "cell_type": "markdown",
      "metadata": {
        "nteract": {
          "transient": {
            "deleting": false
          }
        }
      },
      "source": [
        "**Interpreting VIF Values**\n",
        "- VIF = 1: No correlation (ideal)\n",
        "- VIF < 5: Low multicollinearity (acceptable)\n",
        "- VIF 5-10: Moderate multicollinearity (consider removing)\n",
        "- VIF > 10: High multicollinearity (remove or combine features)"
      ]
    },
    {
      "cell_type": "code",
      "execution_count": 105,
      "metadata": {
        "jupyter": {
          "outputs_hidden": false,
          "source_hidden": false
        },
        "nteract": {
          "transient": {
            "deleting": false
          }
        }
      },
      "outputs": [],
      "source": [
        "X = df[['Potash_Qty_kg/ha', 'Evapo_weighted_avg',\n",
        "       'Wind_speed_weighted_avg', 'Days_temp_below_weighted_avg',\n",
        "       'Days_temp_above_weighted_avg', 'Amplitude_weighted_avg',\n",
        "       'Sunshine_weighted_avg', 'ElNinoIndicator']]\n",
        "Y = df[['Palm_Oil']]\n",
        "\n",
        "if 'constant' in X.columns:\n",
        "    X = X.drop(columns=['constant'])\n",
        "\n",
        "vif_data = pd.DataFrame()\n",
        "vif_data[\"Feature\"] = X.columns\n",
        "\n",
        "vif_data[\"VIF\"] = [variance_inflation_factor(X.values, i) for i in range(X.shape[1])]\n",
        "vif_data[\"VIF\"] = vif_data[\"VIF\"].apply(lambda x: f\"{x:.2f}\")\n",
        "\n",
        "print(vif_data)"
      ]
    },
    {
      "cell_type": "code",
      "execution_count": 106,
      "metadata": {
        "jupyter": {
          "outputs_hidden": false,
          "source_hidden": false
        },
        "nteract": {
          "transient": {
            "deleting": false
          }
        }
      },
      "outputs": [],
      "source": [
        "X = df[['Potash_Qty_kg/ha',\n",
        "       'Wind_speed_weighted_avg', \n",
        "        'Amplitude_weighted_avg',\n",
        "       'Sunshine_weighted_avg', 'ElNinoIndicator']]\n",
        "Y = df[['Palm_Oil']]\n",
        "\n",
        "if 'constant' in X.columns:\n",
        "    X = X.drop(columns=['constant'])\n",
        "\n",
        "vif_data = pd.DataFrame()\n",
        "vif_data[\"Feature\"] = X.columns\n",
        "\n",
        "vif_data[\"VIF\"] = [variance_inflation_factor(X.values, i) for i in range(X.shape[1])]\n",
        "vif_data[\"VIF\"] = vif_data[\"VIF\"].apply(lambda x: f\"{x:.2f}\")\n",
        "\n",
        "print(vif_data)"
      ]
    },
    {
      "cell_type": "markdown",
      "metadata": {
        "nteract": {
          "transient": {
            "deleting": false
          }
        }
      },
      "source": [
        "###### After removing features with VIF value above 5 one by one. "
      ]
    },
    {
      "cell_type": "code",
      "execution_count": 107,
      "metadata": {
        "jupyter": {
          "outputs_hidden": false,
          "source_hidden": false
        },
        "nteract": {
          "transient": {
            "deleting": false
          }
        }
      },
      "outputs": [],
      "source": [
        "df_avg = df_avg.dropna()\n",
        "X = df_avg[['Potash_Qty_kg/ha', \n",
        "       'Days_temp_below_weighted_avg',\n",
        "       'Days_temp_above_weighted_avg', 'Evapo_weighted_avg', 'ElNinoIndicator']]\n",
        "Y = df_avg[['Palm_Oil']]\n",
        "\n",
        "if 'constant' in X.columns:\n",
        "    X = X.drop(columns=['constant'])\n",
        "\n",
        "vif_data = pd.DataFrame()\n",
        "vif_data[\"Feature\"] = X.columns\n",
        "\n",
        "vif_data[\"VIF\"] = [variance_inflation_factor(X.values, i) for i in range(X.shape[1])]\n",
        "vif_data[\"VIF\"] = vif_data[\"VIF\"].apply(lambda x: f\"{x:.2f}\")\n",
        "\n",
        "print(vif_data)"
      ]
    },
    {
      "cell_type": "code",
      "execution_count": 108,
      "metadata": {
        "jupyter": {
          "outputs_hidden": false,
          "source_hidden": false
        },
        "nteract": {
          "transient": {
            "deleting": false
          }
        }
      },
      "outputs": [],
      "source": [
        "df_corr2 = df_avg[['Palm_Oil', 'Potash_Qty_kg/ha',\n",
        "       'Days_temp_below_weighted_avg',\n",
        "       'Days_temp_above_weighted_avg', 'ElNinoIndicator']]\n",
        "df_corr2 = df_corr2.dropna()\n",
        "plt.figure(figsize=(10, 6))\n",
        "sns.heatmap(df_corr2.corr(), annot=True, fmt=\".2f\", cmap = \"RdYlGn\", cbar=True)"
      ]
    },
    {
      "cell_type": "markdown",
      "metadata": {
        "nteract": {
          "transient": {
            "deleting": false
          }
        }
      },
      "source": [
        "###### Building OLS regression model based on features choosen by VIF."
      ]
    },
    {
      "cell_type": "code",
      "execution_count": 109,
      "metadata": {
        "jupyter": {
          "outputs_hidden": false,
          "source_hidden": false
        },
        "nteract": {
          "transient": {
            "deleting": false
          }
        }
      },
      "outputs": [],
      "source": [
        "X = df_avg[['Potash_Qty_kg/ha', \n",
        "       'Days_temp_below_weighted_avg',\n",
        "       'Days_temp_above_weighted_avg', 'Precip_sum_weighted_avg']]\n",
        "X = sm.add_constant(X)\n",
        "model = sm.OLS(Y, X).fit()\n",
        "print(model.summary())"
      ]
    },
    {
      "cell_type": "code",
      "execution_count": 110,
      "metadata": {
        "jupyter": {
          "outputs_hidden": false,
          "source_hidden": false
        },
        "nteract": {
          "transient": {
            "deleting": false
          }
        }
      },
      "outputs": [],
      "source": [
        "#df_avg['Date'] = pd.to_datetime(df_avg['Date'])\n",
        "#df_avg.set_index('Date', inplace=True)"
      ]
    },
    {
      "cell_type": "markdown",
      "metadata": {
        "nteract": {
          "transient": {
            "deleting": false
          }
        }
      },
      "source": [
        "#### Checking lags for all variables"
      ]
    },
    {
      "cell_type": "code",
      "execution_count": 88,
      "metadata": {
        "jupyter": {
          "outputs_hidden": false,
          "source_hidden": false
        },
        "nteract": {
          "transient": {
            "deleting": false
          }
        }
      },
      "outputs": [],
      "source": [
        "# Define maximum lag\n",
        "max_lag = 12\n",
        "\n",
        "# Generate lagged features for all variables\n",
        "lagged_df = pd.DataFrame(index=df_avg.index)\n",
        "for col in df_avg.columns:\n",
        "    for lag in range(0, max_lag + 1):\n",
        "        lagged_df[f\"{col}_lag{lag}\"] = df_avg[col].shift(lag)\n",
        "\n",
        "# Add original Palm_Oil column to lagged_df for correlation calculations\n",
        "lagged_df[\"Palm_Oil\"] = df_avg[\"Palm_Oil\"]\n",
        "\n",
        "# Create heatmaps for 12 lags of Palm_Oil vs 12 lags of each variable\n",
        "for variable in df_avg.columns:\n",
        "    # Generate lagged column names for Palm_Oil and the current variable\n",
        "    palm_oil_lags = [f\"Palm_Oil_lag{lag}\" for lag in range(0, max_lag + 1)]\n",
        "    variable_lags = [f\"{variable}_lag{lag}\" for lag in range(0, max_lag + 1)]\n",
        "\n",
        "    # Filter existing columns in lagged_df\n",
        "    palm_oil_lags = [col for col in palm_oil_lags if col in lagged_df.columns]\n",
        "    variable_lags = [col for col in variable_lags if col in lagged_df.columns]\n",
        "\n",
        "    # Compute correlation matrix\n",
        "    corr_matrix = lagged_df[palm_oil_lags].corrwith(lagged_df[variable_lags[0]])\n",
        "    for lag_col in variable_lags[1:]:\n",
        "        col_corr = lagged_df[palm_oil_lags].corrwith(lagged_df[lag_col])\n",
        "        corr_matrix = pd.concat([corr_matrix, col_corr], axis=1)\n",
        "\n",
        "    # Convert to DataFrame for heatmap\n",
        "    corr_matrix = pd.DataFrame(corr_matrix)\n",
        "    corr_matrix.columns = variable_lags\n",
        "    corr_matrix.index = palm_oil_lags\n",
        "\n",
        "    # Plot heatmap with annotations\n",
        "    plt.figure(figsize=(10, 8))\n",
        "    sns.heatmap(corr_matrix, annot=True, cmap = \"RdYlGn\", fmt=\".2f\", cbar=True)\n",
        "    plt.title(f\"Palm_Oil Lags vs {variable} Lags\")\n",
        "    plt.xlabel(\"Lags of Variable\")\n",
        "    plt.ylabel(\"Lags of Palm_Oil\")\n",
        "    plt.show()"
      ]
    },
    {
      "cell_type": "code",
      "execution_count": null,
      "metadata": {
        "jupyter": {
          "outputs_hidden": false,
          "source_hidden": false
        },
        "nteract": {
          "transient": {
            "deleting": false
          }
        }
      },
      "outputs": [],
      "source": [
        "etsdecompos = seasonal_decompose(df_avg['Palm_Oil'])\n",
        "rcParams['figure.figsize']=(12,6)\n",
        "etsdecompos.plot();"
      ]
    },
    {
      "cell_type": "code",
      "execution_count": null,
      "metadata": {
        "jupyter": {
          "outputs_hidden": false,
          "source_hidden": false
        },
        "nteract": {
          "transient": {
            "deleting": false
          }
        }
      },
      "outputs": [],
      "source": [
        "for variable in df_avg.drop(['Potash_Qty_kg/ha'], axis = 1).columns:\n",
        "\n",
        "    # Perform the ADF test\n",
        "    result = adfuller(df_avg.drop(['Potash_Qty_kg/ha'], axis = 1)[variable])\n",
        "\n",
        "    # Extract and print the p-value from the test result\n",
        "    p_value = result[1]\n",
        "    print(\"p-value:\", p_value)\n",
        "\n",
        "    # Interpret the result\n",
        "    if p_value <= 0.05:\n",
        "        print(f\"The variable {variable} is stationary.\\n\")\n",
        "    else:\n",
        "        print(f\"The variable {variable} is not stationary.\\n\")"
      ]
    },
    {
      "cell_type": "code",
      "execution_count": null,
      "metadata": {
        "jupyter": {
          "outputs_hidden": false,
          "source_hidden": false
        },
        "nteract": {
          "transient": {
            "deleting": false
          }
        }
      },
      "outputs": [],
      "source": [
        "df_avg.columns"
      ]
    },
    {
      "cell_type": "code",
      "execution_count": null,
      "metadata": {
        "jupyter": {
          "outputs_hidden": false,
          "source_hidden": false
        },
        "nteract": {
          "transient": {
            "deleting": false
          }
        }
      },
      "outputs": [],
      "source": [
        "df_reg = df_avg.copy()\n",
        "df_reg = df_reg.dropna()"
      ]
    },
    {
      "cell_type": "code",
      "execution_count": null,
      "metadata": {
        "jupyter": {
          "outputs_hidden": false,
          "source_hidden": false
        },
        "nteract": {
          "transient": {
            "deleting": false
          }
        }
      },
      "outputs": [],
      "source": [
        "X = df_reg[['Potash_Qty_kg/ha', 'Evapo_weighted_avg',\n",
        "       'Precip_sum_weighted_avg', 'Temp_min_weighted_avg',\n",
        "       'Temp_max_weighted_avg', 'Wind_speed_weighted_avg',\n",
        "       'Temp_avg_weighted_avg', 'Days_temp_below_weighted_avg',\n",
        "       'Days_temp_above_weighted_avg', 'Amplitude_weighted_avg',\n",
        "       'Sunshine_weighted_avg']]\n",
        "Y = df_reg['Palm_Oil']"
      ]
    },
    {
      "cell_type": "code",
      "execution_count": null,
      "metadata": {
        "jupyter": {
          "outputs_hidden": false,
          "source_hidden": false
        },
        "nteract": {
          "transient": {
            "deleting": false
          }
        }
      },
      "outputs": [],
      "source": [
        "# Ensure no constant column (like an intercept)\n",
        "if 'constant' in X.columns:\n",
        "    X = X.drop(columns=['constant'])\n",
        "\n",
        "# Create an empty DataFrame for VIF values\n",
        "vif_data = pd.DataFrame()\n",
        "vif_data[\"Feature\"] = X.columns\n",
        "\n",
        "# Calculate VIF for each feature\n",
        "vif_data[\"VIF\"] = [variance_inflation_factor(X.values, i) for i in range(X.shape[1])]\n",
        "vif_data[\"VIF\"] = vif_data[\"VIF\"].apply(lambda x: f\"{x:.2f}\")\n",
        "\n",
        "# Display VIF values\n",
        "print(vif_data)"
      ]
    },
    {
      "cell_type": "code",
      "execution_count": null,
      "metadata": {
        "jupyter": {
          "outputs_hidden": false,
          "source_hidden": false
        },
        "nteract": {
          "transient": {
            "deleting": false
          }
        }
      },
      "outputs": [],
      "source": [
        "x1 = df_reg[['Potash_Qty_kg/ha', 'Evapo_weighted_avg',\n",
        "       'Precip_sum_weighted_avg', \n",
        "       'Temp_max_weighted_avg', 'Wind_speed_weighted_avg',\n",
        "       'Temp_avg_weighted_avg', 'Days_temp_below_weighted_avg',\n",
        "       'Days_temp_above_weighted_avg', 'Amplitude_weighted_avg',\n",
        "       'Sunshine_weighted_avg']]\n",
        "# Ensure no constant column (like an intercept)\n",
        "if 'constant' in x1.columns:\n",
        "    x1 = x1.drop(columns=['constant'])\n",
        "\n",
        "# Create an empty DataFrame for VIF values\n",
        "vif_data = pd.DataFrame()\n",
        "vif_data[\"Feature\"] = x1.columns\n",
        "\n",
        "# Calculate VIF for each feature\n",
        "vif_data[\"VIF\"] = [variance_inflation_factor(x1.values, i) for i in range(x1.shape[1])]\n",
        "vif_data[\"VIF\"] = vif_data[\"VIF\"].apply(lambda x: f\"{x:.2f}\")\n",
        "\n",
        "# Display VIF values\n",
        "print(vif_data)"
      ]
    },
    {
      "cell_type": "code",
      "execution_count": null,
      "metadata": {
        "jupyter": {
          "outputs_hidden": false,
          "source_hidden": false
        },
        "nteract": {
          "transient": {
            "deleting": false
          }
        }
      },
      "outputs": [],
      "source": [
        "x2 = df_reg[['Potash_Qty_kg/ha', \n",
        "       'Precip_sum_weighted_avg', 'Days_temp_below_weighted_avg',\n",
        "       'Days_temp_above_weighted_avg']]\n",
        "\n",
        "if 'constant' in x2.columns:\n",
        "    x2 = x2.drop(columns=['constant'])\n",
        "\n",
        "vif_data = pd.DataFrame()\n",
        "vif_data[\"Feature\"] = x2.columns\n",
        "\n",
        "vif_data[\"VIF\"] = [variance_inflation_factor(x2.values, i) for i in range(x2.shape[1])]\n",
        "vif_data[\"VIF\"] = vif_data[\"VIF\"].apply(lambda x: f\"{x:.2f}\")\n",
        "\n",
        "print(vif_data)"
      ]
    },
    {
      "cell_type": "code",
      "execution_count": null,
      "metadata": {
        "jupyter": {
          "outputs_hidden": false,
          "source_hidden": false
        },
        "nteract": {
          "transient": {
            "deleting": false
          }
        }
      },
      "outputs": [],
      "source": [
        "x2 = sm.add_constant(x2)\n",
        "\n",
        "model = sm.OLS(Y, x2).fit()\n",
        "\n",
        "print(model.summary())"
      ]
    },
    {
      "cell_type": "code",
      "execution_count": null,
      "metadata": {
        "jupyter": {
          "outputs_hidden": false,
          "source_hidden": false
        },
        "nteract": {
          "transient": {
            "deleting": false
          }
        }
      },
      "outputs": [],
      "source": [
        "X = sm.add_constant(X)\n",
        "\n",
        "model = sm.OLS(Y, X).fit()\n",
        "\n",
        "print(model.summary())"
      ]
    },
    {
      "cell_type": "code",
      "execution_count": null,
      "metadata": {
        "jupyter": {
          "outputs_hidden": false,
          "source_hidden": false
        },
        "nteract": {
          "transient": {
            "deleting": false
          }
        }
      },
      "outputs": [],
      "source": [
        "X2 = df_reg[['Potash_Qty_kg/ha', 'Evapo_weighted_avg',\n",
        "       'Precip_sum_weighted_avg', 'Temp_min_weighted_avg', 'Wind_speed_weighted_avg',\n",
        "       'Temp_avg_weighted_avg', 'Days_temp_below_weighted_avg',\n",
        "       'Days_temp_above_weighted_avg', 'Amplitude_weighted_avg',\n",
        "       'Sunshine_weighted_avg']]\n",
        "X2 = sm.add_constant(X2)\n",
        "model = sm.OLS(Y, X2).fit()\n",
        "print(model.summary())"
      ]
    },
    {
      "cell_type": "code",
      "execution_count": null,
      "metadata": {
        "jupyter": {
          "outputs_hidden": false,
          "source_hidden": false
        },
        "nteract": {
          "transient": {
            "deleting": false
          }
        }
      },
      "outputs": [],
      "source": [
        "X3 = df_reg[['Potash_Qty_kg/ha', 'Evapo_weighted_avg',\n",
        "       'Precip_sum_weighted_avg', 'Wind_speed_weighted_avg',\n",
        "       'Temp_avg_weighted_avg', 'Days_temp_below_weighted_avg',\n",
        "       'Days_temp_above_weighted_avg', 'Amplitude_weighted_avg',\n",
        "       'Sunshine_weighted_avg']]\n",
        "X3 = sm.add_constant(X3)\n",
        "model = sm.OLS(Y, X3).fit()\n",
        "print(model.summary())"
      ]
    },
    {
      "cell_type": "code",
      "execution_count": null,
      "metadata": {
        "jupyter": {
          "outputs_hidden": false,
          "source_hidden": false
        },
        "nteract": {
          "transient": {
            "deleting": false
          }
        }
      },
      "outputs": [],
      "source": [
        "X4 = df_reg[['Potash_Qty_kg/ha', 'Evapo_weighted_avg',\n",
        "       'Precip_sum_weighted_avg', 'Wind_speed_weighted_avg',\n",
        "       'Temp_avg_weighted_avg', 'Days_temp_below_weighted_avg', 'Amplitude_weighted_avg',\n",
        "       'Sunshine_weighted_avg']]\n",
        "X4 = sm.add_constant(X4)\n",
        "model = sm.OLS(Y, X4).fit()\n",
        "print(model.summary())"
      ]
    },
    {
      "cell_type": "code",
      "execution_count": null,
      "metadata": {
        "jupyter": {
          "outputs_hidden": false,
          "source_hidden": false
        },
        "nteract": {
          "transient": {
            "deleting": false
          }
        }
      },
      "outputs": [],
      "source": [
        "X5 = df_reg[['Potash_Qty_kg/ha', 'Evapo_weighted_avg',\n",
        "       'Precip_sum_weighted_avg', 'Wind_speed_weighted_avg',\n",
        "       'Days_temp_below_weighted_avg', 'Amplitude_weighted_avg',\n",
        "       'Sunshine_weighted_avg']]\n",
        "X5 = sm.add_constant(X5)\n",
        "model = sm.OLS(Y, X5).fit()\n",
        "print(model.summary())"
      ]
    },
    {
      "cell_type": "code",
      "execution_count": null,
      "metadata": {
        "jupyter": {
          "outputs_hidden": false,
          "source_hidden": false
        },
        "nteract": {
          "transient": {
            "deleting": false
          }
        }
      },
      "outputs": [],
      "source": [
        "X6 = df_reg[['Potash_Qty_kg/ha', 'Evapo_weighted_avg',\n",
        "       'Precip_sum_weighted_avg', 'Wind_speed_weighted_avg', 'Amplitude_weighted_avg',\n",
        "       'Sunshine_weighted_avg']]\n",
        "X6 = sm.add_constant(X6)\n",
        "model = sm.OLS(Y, X6).fit()\n",
        "print(model.summary())"
      ]
    },
    {
      "cell_type": "code",
      "execution_count": null,
      "metadata": {
        "jupyter": {
          "outputs_hidden": false,
          "source_hidden": false
        },
        "nteract": {
          "transient": {
            "deleting": false
          }
        }
      },
      "outputs": [],
      "source": [
        "X7 = df_reg[['Potash_Qty_kg/ha',\n",
        "       'Precip_sum_weighted_avg', 'Wind_speed_weighted_avg', 'Amplitude_weighted_avg',\n",
        "       'Sunshine_weighted_avg']]\n",
        "X7 = sm.add_constant(X7)\n",
        "model = sm.OLS(Y, X7).fit()\n",
        "print(model.summary())"
      ]
    },
    {
      "cell_type": "code",
      "execution_count": null,
      "metadata": {
        "jupyter": {
          "outputs_hidden": false,
          "source_hidden": false
        },
        "nteract": {
          "transient": {
            "deleting": false
          }
        }
      },
      "outputs": [],
      "source": [
        "if 'constant' in X7.columns:\n",
        "    X7 = X7.drop(columns=['constant'])\n",
        "\n",
        "vif_data = pd.DataFrame()\n",
        "vif_data[\"Feature\"] = X7.columns\n",
        "\n",
        "vif_data[\"VIF\"] = [variance_inflation_factor(X7.values, i) for i in range(X7.shape[1])]\n",
        "\n",
        "print(vif_data)"
      ]
    },
    {
      "cell_type": "code",
      "execution_count": null,
      "metadata": {
        "jupyter": {
          "outputs_hidden": false,
          "source_hidden": false
        },
        "nteract": {
          "transient": {
            "deleting": false
          }
        }
      },
      "outputs": [],
      "source": [
        "df.set_index('Date', inplace=True)"
      ]
    },
    {
      "cell_type": "code",
      "execution_count": null,
      "metadata": {
        "jupyter": {
          "outputs_hidden": false,
          "source_hidden": false
        },
        "nteract": {
          "transient": {
            "deleting": false
          }
        }
      },
      "outputs": [],
      "source": [
        "# Calculate 3-month moving average for all numeric columns\n",
        "df_3M_avg = df.rolling(window=3).mean().add_suffix('_3MA')\n",
        "df_3M_avg"
      ]
    },
    {
      "cell_type": "code",
      "execution_count": null,
      "metadata": {
        "jupyter": {
          "outputs_hidden": false,
          "source_hidden": false
        },
        "nteract": {
          "transient": {
            "deleting": false
          }
        }
      },
      "outputs": [],
      "source": [
        "df_3M_avg = df_3M_avg.dropna()\n",
        "df_3M_avg"
      ]
    },
    {
      "cell_type": "code",
      "execution_count": null,
      "metadata": {
        "jupyter": {
          "outputs_hidden": false,
          "source_hidden": false
        },
        "nteract": {
          "transient": {
            "deleting": false
          }
        }
      },
      "outputs": [],
      "source": [
        "df_3M_avg.columns"
      ]
    },
    {
      "cell_type": "code",
      "execution_count": null,
      "metadata": {
        "jupyter": {
          "outputs_hidden": false,
          "source_hidden": false
        },
        "nteract": {
          "transient": {
            "deleting": false
          }
        }
      },
      "outputs": [],
      "source": [
        "# Define maximum lag\n",
        "max_lag = 12\n",
        "\n",
        "# Generate lagged features for all variables\n",
        "lagged_df = pd.DataFrame(index=df_3M_avg.index)\n",
        "for col in df_3M_avg.columns:\n",
        "    for lag in range(0, max_lag + 1):\n",
        "        lagged_df[f\"{col}_lag{lag}\"] = df_3M_avg[col].shift(lag)\n",
        "\n",
        "# Add original Palm_Oil column to lagged_df for correlation calculations\n",
        "lagged_df[\"Palm_Oil_3MA\"] = df_3M_avg[\"Palm_Oil_3MA\"]\n",
        "\n",
        "# Create heatmaps for 12 lags of Palm_Oil vs 12 lags of each variable\n",
        "for variable in df_3M_avg.columns:\n",
        "    # Generate lagged column names for Palm_Oil and the current variable\n",
        "    palm_oil_lags = [f\"Palm_Oil_3MA_lag{lag}\" for lag in range(0, max_lag + 1)]\n",
        "    variable_lags = [f\"{variable}_lag{lag}\" for lag in range(0, max_lag + 1)]\n",
        "\n",
        "    # Filter existing columns in lagged_df\n",
        "    palm_oil_lags = [col for col in palm_oil_lags if col in lagged_df.columns]\n",
        "    variable_lags = [col for col in variable_lags if col in lagged_df.columns]\n",
        "    \n",
        "    # Compute correlation matrix\n",
        "    corr_matrix = lagged_df[palm_oil_lags].corrwith(lagged_df[variable_lags[0]])\n",
        "    for lag_col in variable_lags[1:]:\n",
        "        col_corr = lagged_df[palm_oil_lags].corrwith(lagged_df[lag_col])\n",
        "        corr_matrix = pd.concat([corr_matrix, col_corr], axis=1)\n",
        "\n",
        "    # Convert to DataFrame for heatmap\n",
        "    corr_matrix = pd.DataFrame(corr_matrix)\n",
        "    corr_matrix.columns = variable_lags\n",
        "    corr_matrix.index = palm_oil_lags\n",
        "    corr_matrix\n",
        "    # Plot heatmap with annotations\n",
        "    plt.figure(figsize=(10, 8))\n",
        "    sns.heatmap(corr_matrix, annot=True, cmap = \"RdYlGn\", fmt=\".2f\", cbar=True)\n",
        "    plt.title(f\"Palm_Oil Lags vs {variable} Lags\")\n",
        "    plt.xlabel(\"Lags of Variable\")\n",
        "    plt.ylabel(\"Lags of Palm_Oil\")\n",
        "    plt.show()"
      ]
    },
    {
      "cell_type": "code",
      "execution_count": null,
      "metadata": {
        "jupyter": {
          "outputs_hidden": false,
          "source_hidden": false
        },
        "nteract": {
          "transient": {
            "deleting": false
          }
        }
      },
      "outputs": [],
      "source": [
        "df_3M_avg.columns"
      ]
    },
    {
      "cell_type": "code",
      "execution_count": null,
      "metadata": {
        "jupyter": {
          "outputs_hidden": false,
          "source_hidden": false
        },
        "nteract": {
          "transient": {
            "deleting": false
          }
        }
      },
      "outputs": [],
      "source": [
        "X = df_3M_avg[['Potash_Qty_kg/ha_3MA', 'Evapo_weighted_avg_3MA',\n",
        "       'Precip_sum_weighted_avg_3MA', \n",
        "       'Temp_max_weighted_avg_3MA', 'Wind_speed_weighted_avg_3MA',\n",
        "       'Temp_avg_weighted_avg_3MA', 'Days_temp_below_weighted_avg_3MA',\n",
        "       'Days_temp_above_weighted_avg_3MA', 'Amplitude_weighted_avg_3MA',\n",
        "       'Sunshine_weighted_avg_3MA']]\n",
        "# Ensure no constant column (like an intercept)\n",
        "if 'constant' in X.columns:\n",
        "    X = X.drop(columns=['constant'])\n",
        "\n",
        "# Create an empty DataFrame for VIF values\n",
        "vif_data = pd.DataFrame()\n",
        "vif_data[\"Feature\"] = X.columns\n",
        "\n",
        "# Calculate VIF for each feature\n",
        "vif_data[\"VIF\"] = [variance_inflation_factor(X.values, i) for i in range(X.shape[1])]\n",
        "vif_data[\"VIF\"] = vif_data[\"VIF\"].apply(lambda x: f\"{x:.2f}\")\n",
        "\n",
        "# Display VIF values\n",
        "print(vif_data)"
      ]
    },
    {
      "cell_type": "code",
      "execution_count": null,
      "metadata": {
        "jupyter": {
          "outputs_hidden": false,
          "source_hidden": false
        },
        "nteract": {
          "transient": {
            "deleting": false
          }
        }
      },
      "outputs": [],
      "source": [
        "X = df_3M_avg[['Potash_Qty_kg/ha_3MA', 'Evapo_weighted_avg_3MA',\n",
        "       'Days_temp_below_weighted_avg_3MA',\n",
        "       'Days_temp_above_weighted_avg_3MA']]\n",
        "Y = df_3M_avg['Palm_Oil_3MA']\n",
        "# Ensure no constant column (like an intercept)\n",
        "if 'constant' in X.columns:\n",
        "    X = X.drop(columns=['constant'])\n",
        "\n",
        "# Create an empty DataFrame for VIF values\n",
        "vif_data = pd.DataFrame()\n",
        "vif_data[\"Feature\"] = X.columns\n",
        "\n",
        "# Calculate VIF for each feature\n",
        "vif_data[\"VIF\"] = [variance_inflation_factor(X.values, i) for i in range(X.shape[1])]\n",
        "vif_data[\"VIF\"] = vif_data[\"VIF\"].apply(lambda x: f\"{x:.2f}\")\n",
        "\n",
        "# Display VIF values\n",
        "print(vif_data)"
      ]
    },
    {
      "cell_type": "code",
      "execution_count": null,
      "metadata": {
        "jupyter": {
          "outputs_hidden": false,
          "source_hidden": false
        },
        "nteract": {
          "transient": {
            "deleting": false
          }
        }
      },
      "outputs": [],
      "source": [
        "X = sm.add_constant(X)\n",
        "model = sm.OLS(Y, X).fit()\n",
        "print(model.summary())"
      ]
    },
    {
      "cell_type": "code",
      "execution_count": null,
      "metadata": {
        "jupyter": {
          "outputs_hidden": false,
          "source_hidden": false
        },
        "nteract": {
          "transient": {
            "deleting": false
          }
        }
      },
      "outputs": [],
      "source": [
        "X3 = df_3M_avg[['Potash_Qty_kg/ha_3MA', 'Evapo_weighted_avg_3MA', 'Precip_sum_weighted_avg_3MA',\n",
        "       'Temp_min_weighted_avg_3MA', 'Temp_max_weighted_avg_3MA',\n",
        "       'Wind_speed_weighted_avg_3MA', 'Sunshine_weighted_avg_3MA',\n",
        "       'Temp_avg_weighted_avg_3MA', 'Days_temp_below_weighted_avg_3MA',\n",
        "       'Days_temp_above_weighted_avg_3MA', 'Amplitude_weighted_avg_3MA']]\n",
        "Y3 = df_3M_avg['Palm_Oil_3MA']\n",
        "X3 = sm.add_constant(X3)\n",
        "model = sm.OLS(Y3, X3).fit()\n",
        "print(model.summary())"
      ]
    },
    {
      "cell_type": "code",
      "execution_count": null,
      "metadata": {
        "jupyter": {
          "outputs_hidden": false,
          "source_hidden": false
        },
        "nteract": {
          "transient": {
            "deleting": false
          }
        }
      },
      "outputs": [],
      "source": [
        "X4 = df_3M_avg[['Potash_Qty_kg/ha_3MA', 'Evapo_weighted_avg_3MA', 'Precip_sum_weighted_avg_3MA',\n",
        "       'Temp_min_weighted_avg_3MA', \n",
        "       'Wind_speed_weighted_avg_3MA', 'Sunshine_weighted_avg_3MA',\n",
        "       'Temp_avg_weighted_avg_3MA', 'Days_temp_below_weighted_avg_3MA',\n",
        "       'Days_temp_above_weighted_avg_3MA', 'Amplitude_weighted_avg_3MA']]\n",
        "Y4 = df_3M_avg['Palm_Oil_3MA']\n",
        "X4 = sm.add_constant(X4)\n",
        "model = sm.OLS(Y4, X4).fit()\n",
        "print(model.summary())"
      ]
    },
    {
      "cell_type": "code",
      "execution_count": null,
      "metadata": {
        "jupyter": {
          "outputs_hidden": false,
          "source_hidden": false
        },
        "nteract": {
          "transient": {
            "deleting": false
          }
        }
      },
      "outputs": [],
      "source": [
        "X5 = df_3M_avg[['Potash_Qty_kg/ha_3MA', 'Evapo_weighted_avg_3MA', 'Precip_sum_weighted_avg_3MA',\n",
        "       'Wind_speed_weighted_avg_3MA', 'Sunshine_weighted_avg_3MA',\n",
        "       'Temp_avg_weighted_avg_3MA', 'Days_temp_below_weighted_avg_3MA',\n",
        "       'Days_temp_above_weighted_avg_3MA', 'Amplitude_weighted_avg_3MA']]\n",
        "Y5 = df_3M_avg['Palm_Oil_3MA']\n",
        "X5 = sm.add_constant(X5)\n",
        "model = sm.OLS(Y5, X5).fit()\n",
        "print(model.summary())"
      ]
    }
  ],
  "metadata": {
    "kernelspec": {
      "display_name": "Synapse PySpark",
      "name": "synapse_pyspark"
    },
    "language_info": {
      "name": "python"
    },
    "save_output": true,
    "synapse_widget": {
      "state": {},
      "version": "0.1"
    }
  },
  "nbformat": 4,
  "nbformat_minor": 2
}
