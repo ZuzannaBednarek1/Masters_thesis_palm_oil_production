{
  "cells": [
    {
      "cell_type": "code",
      "execution_count": 775,
      "metadata": {},
      "outputs": [],
      "source": [
        "# Import required libraries\n",
        "import pandas as pd\n",
        "import numpy as np\n",
        "from statsmodels.tsa.statespace.sarimax import SARIMAX\n",
        "from statsmodels.graphics.tsaplots import plot_acf, plot_pacf\n",
        "from datetime import datetime\n",
        "import matplotlib.pyplot as plt\n",
        "import warnings\n",
        "from sklearn.metrics import mean_absolute_error\n",
        "\n",
        "# Suppress warnings for cleaner outputs\n",
        "warnings.filterwarnings(\"ignore\")\n",
        "\n",
        "# Ensure plots are displayed inline\n",
        "%matplotlib inline"
      ]
    },
    {
      "cell_type": "markdown",
      "metadata": {
        "nteract": {
          "transient": {
            "deleting": false
          }
        }
      },
      "source": [
        "### Prepare the Dataset"
      ]
    },
    {
      "cell_type": "code",
      "execution_count": null,
      "metadata": {},
      "outputs": [],
      "source": [
        "# Load the data\n",
        "df = pd.read_excel('Dataset_palm_oil_forecasting.xlsx')\n",
        "df['Date'] = pd.to_datetime(df['Date'])\n",
        "df.set_index('Date', inplace=True)\n",
        "\n",
        "# Ensure the DataFrame is sorted by its index (date in this case)\n",
        "df = df.sort_index()\n",
        "\n",
        "# Split the dataset into training and testing sets\n",
        "train_end_date = '2023-12-01'\n",
        "testing_start_date = (pd.to_datetime(train_end_date) + pd.DateOffset(months=1)).strftime('%Y-%m-%d')  # Start testing 1 month after training ends\n",
        "testing_end_date = (pd.to_datetime(testing_start_date) + pd.DateOffset(months=11)).strftime('%Y-%m-%d')  # Testing ends 12 months later\n",
        "\n",
        "train_data = df[:train_end_date]  # Training data\n",
        "test_data = df[testing_start_date:testing_end_date]  # Testing data\n",
        "\n",
        "# Load additional areas data for later calculations\n",
        "areas = pd.read_excel('Oil_Production_Raw_Data.xlsx', sheet_name='Area')\n",
        "areas.set_index('Date', inplace=True)"
      ]
    },
    {
      "cell_type": "markdown",
      "metadata": {
        "nteract": {
          "transient": {
            "deleting": false
          }
        }
      },
      "source": [
        "### Load and Align Exogenous Variables"
      ]
    },
    {
      "cell_type": "code",
      "execution_count": 777,
      "metadata": {},
      "outputs": [],
      "source": [
        "# Load exogenous data\n",
        "#exog_data = df[['Potash_Qty_kg/ha', 'Days_temp_below_weighted_avg', 'Days_temp_above_weighted_avg', 'Evapo_weighted_avg']]\n",
        "#exog_data = df[['Evapo_weighted_avg']]\n",
        "#exog_data = df[['Potash_Qty_kg/ha', 'Days_temp_below_weighted_avg', 'Days_temp_above_weighted_avg', 'Precip_sum_weighted_avg']]\n",
        "#exog_data = df[['Potash_Qty_kg/ha', 'Days_temp_below_weighted_avg', 'Days_temp_above_weighted_avg']]\n",
        "#exog_data = df[['Precip_sum_weighted_avg']]\n",
        "#exog_data = df[['Evapo_weighted_avg', 'Potash_Qty_kg/ha']]\n",
        "#exog_data = df[['Precip_sum_weighted_avg', 'Potash_Qty_kg/ha']]\n",
        "exog_data = df[['Evapo_weighted_avg', 'Days_temp_below_weighted_avg', 'Days_temp_above_weighted_avg']]\n",
        "\n",
        "# Align exogenous variables with training and testing data\n",
        "exog_train = exog_data[:train_end_date]\n",
        "exog_test = exog_data[testing_start_date:testing_end_date]"
      ]
    },
    {
      "cell_type": "markdown",
      "metadata": {
        "nteract": {
          "transient": {
            "deleting": false
          }
        }
      },
      "source": [
        "### Forecast Exogenous Variables"
      ]
    },
    {
      "cell_type": "code",
      "execution_count": 778,
      "metadata": {},
      "outputs": [],
      "source": [
        "# Define basic SARIMA parameters\n",
        "order = (1, 1, 1)  # ARIMA components (p, d, q)\n",
        "seasonal_order = (0, 1, 1, 12)  # Minimal SARIMA seasonal components (P, D, Q, m=12 for monthly seasonality)\n",
        "\n",
        "# Forecast for each exogenous variable\n",
        "forecasted_exog = {}\n",
        "for var in exog_data.columns:\n",
        "    try:\n",
        "        \n",
        "        # Extract the exogenous variable's time series\n",
        "        exog_var = exog_data[var]\n",
        "        \n",
        "        # Train SARIMA model\n",
        "        model = SARIMAX(exog_var,\n",
        "                               order=order,\n",
        "                               seasonal_order=seasonal_order)\n",
        "        fit = model.fit(disp=False)\n",
        "        \n",
        "        # Forecast next 12 months\n",
        "        forecast = fit.forecast(steps=12)\n",
        "        forecasted_exog[var] = forecast.values  # Store forecast\n",
        "        \n",
        "    except Exception as e:\n",
        "        print(f\"Failed to forecast {var}: {e}\")\n",
        "\n",
        "# Convert the forecasts into a DataFrame\n",
        "forecasted_exog_df = pd.DataFrame(forecasted_exog, \n",
        "                                         index=pd.date_range(start=testing_start_date, periods=12, freq='MS'))\n",
        "\n",
        "forecasted_exog_df"
      ]
    },
    {
      "cell_type": "code",
      "execution_count": 779,
      "metadata": {},
      "outputs": [],
      "source": [
        "# Plot forecasts vs actuals for each exogenous variable\n",
        "for var in exog_data.columns:\n",
        "    try:\n",
        "        # Extract actual values (exclude last 12 months used for forecasting)\n",
        "        actual_values = exog_data[var]  # Historical data up to testing start date\n",
        "        \n",
        "        plt.figure(figsize=(12, 6))\n",
        "        \n",
        "        # Plot actual values\n",
        "        plt.plot(actual_values.index, actual_values, label=f'Actual {var}', color='black')\n",
        "\n",
        "        # Plot forecasted values\n",
        "        plt.plot(forecasted_exog_df.index, forecasted_exog_df[var], label=f'Forecasted {var}', color='red')\n",
        "\n",
        "        # Chart styling\n",
        "        plt.title(f'SARIMA: Forecast vs Actuals for {var}')\n",
        "        plt.xlabel('Date')\n",
        "        plt.ylabel(f'{var} Level')\n",
        "        plt.legend()\n",
        "        plt.grid(True)\n",
        "        \n",
        "        # Show the figure\n",
        "        plt.show()\n",
        "    \n",
        "    except Exception as e:\n",
        "        print(f\"Failed to plot {var}: {e}\")"
      ]
    },
    {
      "cell_type": "markdown",
      "metadata": {
        "nteract": {
          "transient": {
            "deleting": false
          }
        }
      },
      "source": [
        "### Visualize ACF and PACF\n",
        "\n",
        "##### This code visualizes the Autocorrelation Function (ACF) and Partial Autocorrelation Function (PACF) for the training data to help determine SARIMA parameters."
      ]
    },
    {
      "cell_type": "code",
      "execution_count": 780,
      "metadata": {},
      "outputs": [],
      "source": [
        "# Visualize ACF and PACF\n",
        "plt.figure(figsize=(12, 8))\n",
        "\n",
        "# Plot ACF\n",
        "plt.subplot(2, 1, 1)\n",
        "plot_acf(train_data['Palm_Oil'], lags=20, ax=plt.gca(), title=\"ACF - Autocorrelation Function\")\n",
        "plt.grid(True)\n",
        "\n",
        "# Plot PACF\n",
        "plt.subplot(2, 1, 2)\n",
        "plot_pacf(train_data['Palm_Oil'], lags=20, ax=plt.gca(), title=\"PACF - Partial Autocorrelation Function\")\n",
        "plt.grid(True)\n",
        "\n",
        "plt.tight_layout()\n",
        "plt.show()"
      ]
    },
    {
      "cell_type": "markdown",
      "metadata": {
        "nteract": {
          "transient": {
            "deleting": false
          }
        }
      },
      "source": [
        "### Train SARIMA Model\n",
        "##### Train the SARIMA model using specified parameters (p, d, q) and seasonal parameters (P, D, Q, m) and forecast values for the next 12 months."
      ]
    },
    {
      "cell_type": "code",
      "execution_count": 781,
      "metadata": {},
      "outputs": [],
      "source": [
        "# Initialize the results list\n",
        "results = []"
      ]
    },
    {
      "cell_type": "markdown",
      "metadata": {
        "nteract": {
          "transient": {
            "deleting": false
          }
        }
      },
      "source": [
        "#### SARIMA Parameters Breakdown for Palm Oil Production Data\n",
        "\n",
        "##### 1. Non-Seasonal Parameters (`order=(3, 1, 11)`):\n",
        "These parameters account for **trends** and **short-term patterns** in the data.\n",
        "\n",
        "###### **p=3 (Auto-Regressive Order):**\n",
        "- This means the model incorporates the last **3 previous palm oil production values (lags)** to predict the current production.  \n",
        "- **Example:** To predict the current month's production, the values for the last 3 months will be used (e.g., production in January, February, and March is used to predict April's production).\n",
        "\n",
        "###### **d=1 (Differencing):**\n",
        "- Differencing helps remove **trends** from the data and makes the time series stationary.  \n",
        "- Differencing of `d=1` means the model uses the **first difference** of the palm oil data:  \n",
        "  \\( Y[t]_{\\text{difference}} = Y[t] - Y[t-1] \\).  \n",
        "- **Example:** To predict April's production, the model considers the difference in production between March and February instead of the absolute values.\n",
        "\n",
        "###### **q=11 (Moving Average Order):**\n",
        "- This parameter refers to how the model uses **past forecast errors** (residuals) to predict the current value. Specifically, it uses the **last 11 residuals (errors)** from previous months for corrections in the forecast.  \n",
        "- **Example:** Since production may have monthly fluctuations due to various factors like weather, pests, or market demand, errors from the past 11 months are considered.\n",
        "\n",
        "---\n",
        "\n",
        "##### 2. Seasonal Parameters (`seasonal_order=(2, 1, 2, 12)`):\n",
        "These parameters account for **seasonal influences** (patterns that happen every 12 months).\n",
        "\n",
        "###### **P=2 (Seasonal Auto-Regressive Order):**\n",
        "- This means that the model considers palm oil production values from **the last 2 seasonal periods** to make predictions.  \n",
        "- **Example:** To predict April 2025, the model may use production from April 2024 and April 2023 (12 and 24 months ago).\n",
        "\n",
        "###### **D=1 (Seasonal Differencing):**\n",
        "- Differencing is applied at the **seasonal level** to eliminate variations across years.  \n",
        "- Seasonal differencing of `D=1` computes the **difference** between **same months** across consecutive years:  \n",
        "  \\( Y[t]_{\\text{seasonal difference}} = Y[t] - Y[t-m] \\), where \\( m=12 \\).  \n",
        "- **Example:** To predict April 2025's production, the model uses the difference between April 2025 and April 2024.\n",
        "\n",
        "###### **Q=2 (Seasonal Moving Average Order):**\n",
        "- This means the model incorporates **seasonal forecast errors** from the **last 2 seasonal periods** into its predictions.  \n",
        "- **Example:** Errors from April 2024 and April 2023 will be considered to predict April 2025.\n",
        "\n",
        "###### **m=12 (Seasonal Cycle Length):**\n",
        "- Indicates the length of the **seasonal cycle** is **12 months**.  \n",
        "- **Explanation:** Palm oil production exhibits clear annual seasonality due to factors like harvest seasons, pests, rainfall patterns, and other yearly cycles.\n",
        "\n",
        "---\n",
        "\n",
        "##### Summary\n",
        "The SARIMA model effectively combines **short-term patterns** from recent months and **long-term seasonal influences** tied to palm oil's annual production cycles to generate accurate forecasts.\n"
      ]
    },
    {
      "cell_type": "code",
      "execution_count": 782,
      "metadata": {},
      "outputs": [],
      "source": [
        "# Specify SARIMA parameters\n",
        "order = (3, 1, 11)  # p, d, q\n",
        "seasonal_order = (2, 1, 2, 12)  # P, D, Q, m (assumes monthly seasonality)\n",
        "\n",
        "# Align exogenous variables with the training data\n",
        "exog_train = exog_data[:train_data.index[-1]]  # Exogenous variables for training\n",
        "exog_forecast = forecasted_exog_df  # Forecasted exogenous variables for prediction\n",
        "\n",
        "try:\n",
        "    # Train the SARIMA model with exogenous variables\n",
        "    sarima_model = SARIMAX(train_data['Palm_Oil'],\n",
        "                           order=order, \n",
        "                           seasonal_order=seasonal_order,\n",
        "                           exog=exog_train)  # Pass exogenous variables for training\n",
        "    sarima_fit = sarima_model.fit(disp=False)\n",
        "\n",
        "    # Forecast for the next 12 months using the forecasted exogenous variables\n",
        "    forecast = sarima_fit.forecast(steps=12, exog=exog_forecast)  # Include exogenous variables for forecasting\n",
        "\n",
        "    # Create forecast index based on the first day of each month\n",
        "    forecast_index = pd.date_range(start=train_data.index[-1] + pd.DateOffset(months=1), periods=12, freq='MS')\n",
        "    forecast_df = pd.DataFrame({'ForecastValue': forecast.values}, index=forecast_index)\n",
        "\n",
        "except Exception as e:\n",
        "    print(f\"Error occurred during SARIMA model training or forecast: {e}\")\n",
        "\n",
        "forecast_df"
      ]
    },
    {
      "cell_type": "markdown",
      "metadata": {
        "nteract": {
          "transient": {
            "deleting": false
          }
        }
      },
      "source": [
        "### Compare Forecast with Actual Values"
      ]
    },
    {
      "cell_type": "code",
      "execution_count": 783,
      "metadata": {},
      "outputs": [],
      "source": [
        "# Compare forecast with actual values\n",
        "comparison_df = forecast_df.join(test_data[['Palm_Oil']], how='inner').rename(columns={'Palm_Oil': 'ActualValue'})\n",
        "\n",
        "# Calculate error metrics\n",
        "comparison_df['AbsoluteError'] = np.abs(comparison_df['ActualValue'] - comparison_df['ForecastValue'])\n",
        "comparison_df['APE'] = np.abs((comparison_df['ActualValue'] - comparison_df['ForecastValue']) / comparison_df['ActualValue']) * 100\n",
        "rmse = np.sqrt(np.mean((comparison_df['ActualValue'] - comparison_df['ForecastValue'])**2))\n",
        "mse = np.mean((comparison_df['ActualValue'] - comparison_df['ForecastValue'])**2)"
      ]
    },
    {
      "cell_type": "markdown",
      "metadata": {
        "nteract": {
          "transient": {
            "deleting": false
          }
        }
      },
      "source": [
        "### Merge additional calculations"
      ]
    },
    {
      "cell_type": "code",
      "execution_count": 784,
      "metadata": {},
      "outputs": [],
      "source": [
        "# Merge with areas data for additional calculations\n",
        "comparison_df = pd.merge(comparison_df, areas, left_index=True, right_index=True, how='left')\n",
        "comparison_df['CPO (T/ha) Forecast'] = comparison_df['ForecastValue'] * comparison_df['OER CPO']\n",
        "comparison_df['CPO (T/ha) Actuals'] = comparison_df['ActualValue'] * comparison_df['OER CPO']\n",
        "comparison_df['TotalProductionForecast'] = comparison_df['CPO (T/ha) Forecast'] * (comparison_df['Mature area'] + 0.75 * comparison_df['Immature Area'])\n",
        "comparison_df['TotalProductionActuals'] = comparison_df['CPO (T/ha) Actuals'] * (comparison_df['Mature area'] + 0.75 * comparison_df['Immature Area'])\n",
        "\n",
        "# Drop unnecessary columns\n",
        "comparison_df = comparison_df.drop(['Area', 'Mature area', 'Immature Area', 'OER CPO', 'CPO (T/ha) Forecast', 'CPO (T/ha) Actuals'], axis=1)"
      ]
    },
    {
      "cell_type": "markdown",
      "metadata": {
        "nteract": {
          "transient": {
            "deleting": false
          }
        }
      },
      "source": [
        "### Store Results"
      ]
    },
    {
      "cell_type": "code",
      "execution_count": 785,
      "metadata": {},
      "outputs": [],
      "source": [
        "# Save the results for this particular SARIMA model\n",
        "training_start_date = train_data.index[0].strftime('%Y-%m-%d')\n",
        "creation_date = datetime.now().strftime('%Y-%m-%d')\n",
        "\n",
        "for date, forecast_value, actual_value, absolute_error, ape, total_forecast, total_actuals in zip(\n",
        "        comparison_df.index, \n",
        "        comparison_df['ForecastValue'], \n",
        "        comparison_df['ActualValue'], \n",
        "        comparison_df['AbsoluteError'],\n",
        "        comparison_df['APE'],\n",
        "        comparison_df['TotalProductionForecast'],\n",
        "        comparison_df['TotalProductionActuals']):\n",
        "    results.append({\n",
        "        'Date': date.strftime('%Y-%m-%d'),\n",
        "        'ForecastValue': forecast_value,\n",
        "        'ActualValue': actual_value,\n",
        "        'ModelName': 'SARIMAX',\n",
        "        'Variables': ', '.join(exog_data.columns),\n",
        "        'ModelParameters': f'order={order}, seasonal_order={seasonal_order}',\n",
        "        'TrainingStartDate': training_start_date,\n",
        "        'TrainingEndDate': train_end_date,\n",
        "        'TestingStartDate': testing_start_date,\n",
        "        'TestingEndDate': testing_end_date,\n",
        "        'RMSE': rmse,\n",
        "        'MAPE': ape/100,\n",
        "        'MSE': mse,\n",
        "        'AbsoluteError': absolute_error,\n",
        "        'TotalProductionForecast': total_forecast,\n",
        "        'TotalProductionActuals': total_actuals,\n",
        "        'Creation_Date': creation_date,\n",
        "        'Comment': '-'\n",
        "    })"
      ]
    },
    {
      "cell_type": "markdown",
      "metadata": {
        "nteract": {
          "transient": {
            "deleting": false
          }
        }
      },
      "source": [
        "### Consolidate and Display Results"
      ]
    },
    {
      "cell_type": "code",
      "execution_count": 786,
      "metadata": {},
      "outputs": [],
      "source": [
        "# Create the consolidated results table\n",
        "result_table = pd.DataFrame(results)\n",
        "\n",
        "# Format date columns for display\n",
        "result_table['Date'] = pd.to_datetime(result_table['Date']).dt.strftime('%d.%m.%Y')\n",
        "result_table['Creation_Date'] = pd.to_datetime(result_table['Creation_Date']).dt.strftime('%d.%m.%Y')\n",
        "result_table['TrainingStartDate'] = pd.to_datetime(result_table['TrainingStartDate']).dt.strftime('%d.%m.%Y')\n",
        "result_table['TrainingEndDate'] = pd.to_datetime(result_table['TrainingEndDate']).dt.strftime('%d.%m.%Y')\n",
        "result_table['TestingStartDate'] = pd.to_datetime(result_table['TestingStartDate']).dt.strftime('%d.%m.%Y')\n",
        "result_table['TestingEndDate'] = pd.to_datetime(result_table['TestingEndDate']).dt.strftime('%d.%m.%Y')\n",
        "\n",
        "# Reorder columns\n",
        "result_table = result_table[['Date', 'ForecastValue', 'ActualValue', 'ModelName', 'Variables', \n",
        "                             'ModelParameters', 'TrainingStartDate', 'TrainingEndDate', 'TestingStartDate', \n",
        "                             'TestingEndDate', 'RMSE', 'MAPE', 'MSE', 'AbsoluteError', 'TotalProductionForecast', \n",
        "                             'TotalProductionActuals', 'Creation_Date', 'Comment']]\n",
        "\n",
        "# Display the result table\n",
        "result_table"
      ]
    },
    {
      "cell_type": "code",
      "execution_count": 787,
      "metadata": {},
      "outputs": [],
      "source": [
        "# Plot actuals vs forecast\n",
        "plt.figure(figsize=(12, 6))\n",
        "plt.plot(comparison_df.index, comparison_df['ActualValue'], label='Actual Values', color='green')\n",
        "plt.plot(comparison_df.index, comparison_df['ForecastValue'], label='Forecasted Values', color='black', linestyle='--')\n",
        "plt.legend(loc='best')\n",
        "plt.xlabel('Date')\n",
        "plt.ylabel('Palm Oil Production')\n",
        "plt.title('Actual vs Forecasted Palm Oil Production (SARIMA)')\n",
        "plt.grid()\n",
        "plt.show()\n",
        "\n",
        "print(f\"MAPE: {result_table['MAPE'].mean()}\")"
      ]
    },
    {
      "cell_type": "code",
      "execution_count": 788,
      "metadata": {},
      "outputs": [],
      "source": [
        "#all_results_df = pd.DataFrame(columns=result_table.columns)\n",
        "all_results_df = pd.concat([result_table, all_results_df], ignore_index=True) \n",
        "all_results_df"
      ]
    },
    {
      "cell_type": "code",
      "execution_count": null,
      "metadata": {},
      "outputs": [],
      "source": [
        "all_results_df.to_excel('SARIMAX_results.xlsx')"
      ]
    }
  ],
  "metadata": {
    "kernelspec": {
      "display_name": "Synapse PySpark",
      "name": "synapse_pyspark"
    },
    "language_info": {
      "name": "python"
    },
    "save_output": true
  },
  "nbformat": 4,
  "nbformat_minor": 2
}
