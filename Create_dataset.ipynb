{
  "cells": [
    {
      "cell_type": "code",
      "execution_count": 36,
      "metadata": {},
      "outputs": [],
      "source": [
        "import pandas as pd\n",
        "import numpy as np\n",
        "import seaborn as sns\n",
        "import matplotlib.pyplot as plt\n",
        "\n",
        "from statsmodels.tsa.api import VAR\n",
        "from statsmodels.tsa.stattools import adfuller\n",
        "from statsmodels.tools.eval_measures import rmse, aic\n",
        "from sklearn.preprocessing import StandardScaler\n",
        "from statsmodels.tsa.stattools import grangercausalitytests\n",
        "import warnings\n",
        "from sklearn.tree import DecisionTreeRegressor\n",
        "from statsmodels.tsa.seasonal import seasonal_decompose\n",
        "from pylab import rcParams\n",
        "from sklearn.metrics import mean_squared_error\n",
        "import warnings\n",
        "from dateutil.relativedelta import relativedelta\n",
        "from datetime import datetime\n",
        "warnings.filterwarnings(\"ignore\")\n",
        "%matplotlib inline"
      ]
    },
    {
      "cell_type": "markdown",
      "metadata": {
        "nteract": {
          "transient": {
            "deleting": false
          }
        }
      },
      "source": [
        "## Data extraction"
      ]
    },
    {
      "cell_type": "markdown",
      "metadata": {
        "nteract": {
          "transient": {
            "deleting": false
          }
        }
      },
      "source": [
        "Extracting data from database and Excel files.\n",
        "<br/><br/>\n",
        "1. **Weather data**\n",
        "    - Source: OpenMeteo\n",
        "    - Database location: gold.v_openmeteo_station_daily\n",
        "    - Frequency: Daily\n",
        "    - Country: Malaysia\n",
        "<br/><br/>\n",
        "2. **Fertilizers data** - we are using sum of potash imports from different countries to Malaysia.\n",
        "    - Source: TDM \n",
        "    - Database location: gold.tbl_tradedata\n",
        "    - Frequency: Monthly\n",
        "    - Country: Malaysia\n",
        "<br/><br/>\n",
        "3. **Palm Oil Production data** \n",
        "    - Source: Data published by Malaysian government. \\\n",
        "        We store this data in SnD file:  \n",
        "        \"G:\\Shared drives\\1-Commodity Markets Analysis\\2-Commodities\\4 - Oils\\SnD\\Fats - SnD - Azure connection.xlsm\"\n",
        "    - Country: Malaysia"
      ]
    },
    {
      "cell_type": "code",
      "execution_count": null,
      "metadata": {
        "jupyter": {
          "outputs_hidden": false,
          "source_hidden": false
        },
        "nteract": {
          "transient": {
            "deleting": false
          }
        }
      },
      "outputs": [],
      "source": [
        "df_weather = spark.sql(\"\"\"\n",
        "    SELECT * \n",
        "    FROM gold.v_openmeteo_station_daily \n",
        "    WHERE CountryIso2 = 'MY' \n",
        "    AND StationName IN (\n",
        "        'LABUAN', 'KOTA KINABALU INTL', 'SANDAKAN', 'TAWAU', 'MIRI', \n",
        "        'BINTULU', 'SIBU', 'KUCHING INTL', 'SULTAN ISMAIL', 'MERSING', \n",
        "        'MALACCA', 'SINGAPORE CHANGI INTL', 'KUANTAN'\n",
        "    )\n",
        "\"\"\")\n",
        "df_weather = df_weather.toPandas()\n",
        "\n",
        "'''\n",
        "df_potash = spark.sql(\"\"\"\n",
        "SELECT * \n",
        "FROM gold.v_tradedata \n",
        "WHERE Scope ='TropicalOils'\n",
        "AND Flow ='I'\n",
        "AND Commodity = 'POT' \n",
        "AND Reporter = 'MYS'\n",
        "AND Type = 'R'\n",
        "\"\"\")\n",
        "df_potash = df_potash.toPandas()\n",
        "'''\n",
        "\n",
        "df_potash = pd.read_csv('Potash_imports_prd.csv')\n",
        "\n",
        "df_production = pd.read_excel('Oil_Production_Raw_Data.xlsx')\n",
        "\n",
        "df_area = pd.read_excel('Oil_Production_Raw_Data.xlsx', sheet_name = 'Area')"
      ]
    },
    {
      "cell_type": "code",
      "execution_count": 38,
      "metadata": {
        "jupyter": {
          "outputs_hidden": false,
          "source_hidden": false
        },
        "nteract": {
          "transient": {
            "deleting": false
          }
        }
      },
      "outputs": [],
      "source": [
        "regions = [\n",
        "    df_weather['StationName'].isin(['LABUAN', 'KOTA KINABALU INTL', 'SANDAKAN', 'TAWAU']),\n",
        "    df_weather['StationName'].isin(['MIRI', 'BINTULU', 'SIBU', 'KUCHING INTL']),\n",
        "    df_weather['StationName'].isin(['SULTAN ISMAIL', 'MERSING', 'MALACCA', 'SINGAPORE CHANGI INTL']),\n",
        "    df_weather['StationName'] == 'KUANTAN'\n",
        "]\n",
        "choices = ['SABAH', 'SARAWAK', 'JOHOR', 'PAHANG']\n",
        "\n",
        "df_weather['StationRegion'] = np.select(regions, choices, default='UNKNOWN')"
      ]
    },
    {
      "cell_type": "code",
      "execution_count": 39,
      "metadata": {
        "jupyter": {
          "outputs_hidden": false,
          "source_hidden": false
        },
        "nteract": {
          "transient": {
            "deleting": false
          }
        }
      },
      "outputs": [],
      "source": [
        "df_potash.head()"
      ]
    },
    {
      "cell_type": "code",
      "execution_count": 40,
      "metadata": {
        "jupyter": {
          "outputs_hidden": false,
          "source_hidden": false
        },
        "nteract": {
          "transient": {
            "deleting": false
          }
        }
      },
      "outputs": [],
      "source": [
        "df_production.head()"
      ]
    },
    {
      "cell_type": "code",
      "execution_count": 41,
      "metadata": {
        "jupyter": {
          "outputs_hidden": false,
          "source_hidden": false
        },
        "nteract": {
          "transient": {
            "deleting": false
          }
        }
      },
      "outputs": [],
      "source": [
        "df_area.head()"
      ]
    },
    {
      "cell_type": "markdown",
      "metadata": {
        "nteract": {
          "transient": {
            "deleting": false
          }
        }
      },
      "source": [
        "### Pivot of weather table\n",
        "\n",
        "Creating table where we have column with date and columns with weather data for each station, ex. 'Temperature_2m_max_BINTULU'."
      ]
    },
    {
      "cell_type": "code",
      "execution_count": 42,
      "metadata": {
        "jupyter": {
          "outputs_hidden": false,
          "source_hidden": false
        },
        "nteract": {
          "transient": {
            "deleting": false
          }
        }
      },
      "outputs": [],
      "source": [
        "df_weather_pivot = df_weather.pivot_table(\n",
        "    index='Event_date',\n",
        "    columns='StationName',\n",
        "    values=[\n",
        "        'Precipitation_sum', \n",
        "        'Temperature_2m_max', \n",
        "        'Temperature_2m_min', \n",
        "        'Temperature_2m_avg', \n",
        "        'Sunshine_duration', \n",
        "        'Wind_speed_10m_max', \n",
        "        'Et0_fao_evapotranspiration'\n",
        "    ],\n",
        "    aggfunc='mean'\n",
        ")"
      ]
    },
    {
      "cell_type": "code",
      "execution_count": 43,
      "metadata": {
        "jupyter": {
          "outputs_hidden": false,
          "source_hidden": false
        },
        "nteract": {
          "transient": {
            "deleting": false
          }
        }
      },
      "outputs": [],
      "source": [
        "# Define the aggregation functions for each column\n",
        "agg_funcs = {\n",
        "    'Precipitation_sum': 'sum',\n",
        "    'Temperature_2m_max': 'max',\n",
        "    'Temperature_2m_min': 'min',\n",
        "    'Temperature_2m_avg': 'mean',\n",
        "    'Sunshine_duration': 'mean',\n",
        "    'Wind_speed_10m_max': 'mean',\n",
        "    'Et0_fao_evapotranspiration': 'mean'\n",
        "}\n",
        "\n",
        "# Create the pivot table\n",
        "df_weather_pivot = df_weather.pivot_table(\n",
        "    index='Event_date',\n",
        "    columns='StationRegion',\n",
        "    values=list(agg_funcs.keys()),\n",
        "    aggfunc=agg_funcs\n",
        ")\n",
        "\n",
        "# Reset the column names to avoid MultiIndex columns\n",
        "df_weather_pivot.columns = ['_'.join(col).strip() for col in df_weather_pivot.columns.values]\n",
        "df_weather_pivot.reset_index(inplace=True)\n",
        "\n",
        "# Display the resulting pivot table\n",
        "df_weather_pivot"
      ]
    },
    {
      "cell_type": "code",
      "execution_count": 44,
      "metadata": {
        "jupyter": {
          "outputs_hidden": false,
          "source_hidden": false
        },
        "nteract": {
          "transient": {
            "deleting": false
          }
        }
      },
      "outputs": [],
      "source": [
        "df_weather_pivot['Event_date'] = pd.to_datetime(df_weather_pivot['Event_date'])\n",
        "df_weather_pivot.set_index('Event_date', inplace=True)"
      ]
    },
    {
      "cell_type": "code",
      "execution_count": 45,
      "metadata": {
        "jupyter": {
          "outputs_hidden": false,
          "source_hidden": false
        },
        "nteract": {
          "transient": {
            "deleting": false
          }
        }
      },
      "outputs": [],
      "source": [
        "# Define the aggregation rules\n",
        "def aggregation_rules(column_name):\n",
        "    if column_name.startswith('Precipitation_sum'):\n",
        "        return 'sum'\n",
        "    if column_name.startswith('Temperature_2m_min'):\n",
        "        return 'min'\n",
        "    if column_name.startswith('Temperature_2m_max'):\n",
        "        return 'max'\n",
        "    else:\n",
        "        return 'mean'\n",
        "\n",
        "# Prepare the aggregation dictionary\n",
        "agg_rules = {}\n",
        "for col in df_weather_pivot.columns:\n",
        "    rule = aggregation_rules(col)\n",
        "    if isinstance(rule, list):  # If multiple aggregations, expand them\n",
        "        agg_rules[col] = rule\n",
        "    else:\n",
        "        agg_rules[col] = rule\n",
        "\n",
        "# Apply the aggregation\n",
        "df_weather_monthly = df_weather_pivot.resample('M').agg(agg_rules)\n",
        "\n",
        "# Flatten the resulting MultiIndex columns\n",
        "df_weather_monthly.columns = [\n",
        "    f\"{col[0]}_{col[1]}\" if isinstance(col, tuple) else col for col in df_weather_monthly.columns\n",
        "]\n",
        "df_weather_monthly"
      ]
    },
    {
      "cell_type": "code",
      "execution_count": 46,
      "metadata": {
        "jupyter": {
          "outputs_hidden": false,
          "source_hidden": false
        },
        "nteract": {
          "transient": {
            "deleting": false
          }
        }
      },
      "outputs": [],
      "source": [
        "df_weather_pivot.columns"
      ]
    },
    {
      "cell_type": "code",
      "execution_count": 47,
      "metadata": {
        "jupyter": {
          "outputs_hidden": false,
          "source_hidden": false
        },
        "nteract": {
          "transient": {
            "deleting": false
          }
        }
      },
      "outputs": [],
      "source": [
        "monthly_temperature_thresholds = df_weather_pivot.groupby(pd.Grouper(freq='M')).agg(\n",
        "    Days_temp_above_SARAWAK=('Temperature_2m_max_SARAWAK', lambda x: (x > 32).sum()),\n",
        "    Days_temp_below_SARAWAK=('Temperature_2m_min_SARAWAK', lambda x: (x < 22).sum()),\n",
        "    Days_temp_above_JOHOR=('Temperature_2m_max_JOHOR', lambda x: (x > 32).sum()),\n",
        "    Days_temp_below_JOHOR=('Temperature_2m_min_JOHOR', lambda x: (x < 22).sum()),\n",
        "    Days_temp_above_PAHANG=('Temperature_2m_max_PAHANG', lambda x: (x > 32).sum()),\n",
        "    Days_temp_below_PAHANG=('Temperature_2m_min_PAHANG', lambda x: (x < 22).sum()),\n",
        "    Days_temp_above_SABAH=('Temperature_2m_max_SABAH', lambda x: (x > 32).sum()),\n",
        "    Days_temp_below_SABAH=('Temperature_2m_min_SABAH', lambda x: (x < 22).sum()),\n",
        "    Max_temp_SARAWAK=('Temperature_2m_max_SARAWAK', 'max'),\n",
        "    Min_temp_SARAWAK=('Temperature_2m_min_SARAWAK', 'min'),\n",
        "    Max_temp_JOHOR=('Temperature_2m_max_JOHOR', 'max'),\n",
        "    Min_temp_JOHOR=('Temperature_2m_min_JOHOR', 'min'),\n",
        "    Max_temp_PAHANG=('Temperature_2m_max_PAHANG', 'max'),\n",
        "    Min_temp_PAHANG=('Temperature_2m_min_PAHANG', 'min'),\n",
        "    Max_temp_SABAH=('Temperature_2m_max_SABAH', 'max'),\n",
        "    Min_temp_SABAH=('Temperature_2m_min_SABAH', 'min'),\n",
        ").reset_index()\n",
        "\n",
        "monthly_temperature_thresholds['Amplitude_SARAWAK'] = monthly_temperature_thresholds['Max_temp_SARAWAK'] - monthly_temperature_thresholds['Min_temp_SARAWAK']\n",
        "monthly_temperature_thresholds['Amplitude_JOHOR'] = monthly_temperature_thresholds['Max_temp_JOHOR'] - monthly_temperature_thresholds['Min_temp_JOHOR']\n",
        "monthly_temperature_thresholds['Amplitude_PAHANG'] = monthly_temperature_thresholds['Max_temp_PAHANG'] - monthly_temperature_thresholds['Min_temp_PAHANG']\n",
        "monthly_temperature_thresholds['Amplitude_SABAH'] = monthly_temperature_thresholds['Max_temp_SABAH'] - monthly_temperature_thresholds['Min_temp_SABAH']\n",
        "\n",
        "monthly_temperature_thresholds = monthly_temperature_thresholds.drop(['Max_temp_SARAWAK', 'Min_temp_SARAWAK', 'Max_temp_JOHOR', 'Min_temp_JOHOR', 'Max_temp_PAHANG', 'Min_temp_PAHANG', 'Max_temp_SABAH', 'Min_temp_SABAH'], axis = 1)\n",
        "\n",
        "monthly_temperature_thresholds.set_index('Event_date', inplace=True)\n",
        "monthly_temperature_thresholds"
      ]
    },
    {
      "cell_type": "code",
      "execution_count": 48,
      "metadata": {
        "jupyter": {
          "outputs_hidden": false,
          "source_hidden": false
        },
        "nteract": {
          "transient": {
            "deleting": false
          }
        }
      },
      "outputs": [],
      "source": [
        "df_weather_monthly = pd.merge(df_weather_monthly, monthly_temperature_thresholds, left_index=True, right_index=True, how='left')"
      ]
    },
    {
      "cell_type": "code",
      "execution_count": 49,
      "metadata": {
        "jupyter": {
          "outputs_hidden": false,
          "source_hidden": false
        },
        "nteract": {
          "transient": {
            "deleting": false
          }
        }
      },
      "outputs": [],
      "source": [
        "df_weather_monthly.index = pd.to_datetime(df_weather_monthly.index)\n",
        "df_weather_monthly.index = df_weather_monthly.index.to_period('M').to_timestamp()"
      ]
    },
    {
      "cell_type": "code",
      "execution_count": 50,
      "metadata": {
        "jupyter": {
          "outputs_hidden": false,
          "source_hidden": false
        },
        "nteract": {
          "transient": {
            "deleting": false
          }
        }
      },
      "outputs": [],
      "source": [
        "df_weather_monthly.head()"
      ]
    },
    {
      "cell_type": "code",
      "execution_count": 51,
      "metadata": {
        "jupyter": {
          "outputs_hidden": false,
          "source_hidden": false
        },
        "nteract": {
          "transient": {
            "deleting": false
          }
        }
      },
      "outputs": [],
      "source": [
        "df_potash"
      ]
    },
    {
      "cell_type": "code",
      "execution_count": 52,
      "metadata": {
        "jupyter": {
          "outputs_hidden": false,
          "source_hidden": false
        },
        "nteract": {
          "transient": {
            "deleting": false
          }
        }
      },
      "outputs": [],
      "source": [
        "df_potash.columns"
      ]
    },
    {
      "cell_type": "code",
      "execution_count": 53,
      "metadata": {
        "jupyter": {
          "outputs_hidden": false,
          "source_hidden": false
        },
        "nteract": {
          "transient": {
            "deleting": false
          }
        }
      },
      "outputs": [],
      "source": [
        "df_potash = df_potash.drop(['Flow', 'Year', 'Month', 'Seasonal', 'Commodity', 'Reporter',\n",
        "       'Partner', 'Unit', 'Cy', 'Value_Per_Unit', 'Value', 'Scope',\n",
        "       'Type'], axis = 1)"
      ]
    },
    {
      "cell_type": "code",
      "execution_count": 54,
      "metadata": {
        "jupyter": {
          "outputs_hidden": false,
          "source_hidden": false
        },
        "nteract": {
          "transient": {
            "deleting": false
          }
        }
      },
      "outputs": [],
      "source": [
        "df_potash.head()"
      ]
    },
    {
      "cell_type": "code",
      "execution_count": 55,
      "metadata": {
        "jupyter": {
          "outputs_hidden": false,
          "source_hidden": false
        },
        "nteract": {
          "transient": {
            "deleting": false
          }
        }
      },
      "outputs": [],
      "source": [
        "df_potash = df_potash.groupby('Date', as_index=False)['Qty'].sum()\n",
        "df_potash.head()"
      ]
    },
    {
      "cell_type": "code",
      "execution_count": 56,
      "metadata": {
        "jupyter": {
          "outputs_hidden": false,
          "source_hidden": false
        },
        "nteract": {
          "transient": {
            "deleting": false
          }
        }
      },
      "outputs": [],
      "source": [
        "df_potash['Date'] = pd.to_datetime(df_potash['Date'])\n",
        "df_potash.set_index('Date', inplace=True)\n",
        "df_potash"
      ]
    },
    {
      "cell_type": "code",
      "execution_count": 57,
      "metadata": {
        "jupyter": {
          "outputs_hidden": false,
          "source_hidden": false
        },
        "nteract": {
          "transient": {
            "deleting": false
          }
        }
      },
      "outputs": [],
      "source": [
        "df_area['Date'] = pd.to_datetime(df_area['Date'])\n",
        "df_area.set_index('Date', inplace=True)\n",
        "df_area"
      ]
    },
    {
      "cell_type": "code",
      "execution_count": 58,
      "metadata": {
        "jupyter": {
          "outputs_hidden": false,
          "source_hidden": false
        },
        "nteract": {
          "transient": {
            "deleting": false
          }
        }
      },
      "outputs": [],
      "source": [
        "df_potash = pd.merge(df_potash, df_area, left_index=True, right_index=True, how='left')"
      ]
    },
    {
      "cell_type": "code",
      "execution_count": 59,
      "metadata": {
        "jupyter": {
          "outputs_hidden": false,
          "source_hidden": false
        },
        "nteract": {
          "transient": {
            "deleting": false
          }
        }
      },
      "outputs": [],
      "source": [
        "df_potash['Qty_kg/ha'] = df_potash['Qty']*1000/df_potash['Area']"
      ]
    },
    {
      "cell_type": "code",
      "execution_count": 60,
      "metadata": {
        "jupyter": {
          "outputs_hidden": false,
          "source_hidden": false
        },
        "nteract": {
          "transient": {
            "deleting": false
          }
        }
      },
      "outputs": [],
      "source": [
        "df_potash"
      ]
    },
    {
      "cell_type": "code",
      "execution_count": 61,
      "metadata": {
        "jupyter": {
          "outputs_hidden": false,
          "source_hidden": false
        },
        "nteract": {
          "transient": {
            "deleting": false
          }
        }
      },
      "outputs": [],
      "source": [
        "plt.plot(df_potash.index, df_potash['Qty_kg/ha'])"
      ]
    },
    {
      "cell_type": "code",
      "execution_count": 62,
      "metadata": {
        "jupyter": {
          "outputs_hidden": false,
          "source_hidden": false
        },
        "nteract": {
          "transient": {
            "deleting": false
          }
        }
      },
      "outputs": [],
      "source": [
        "df_production['Date'] = pd.to_datetime(df_production['Date'])\n",
        "df_production.set_index('Date', inplace=True)"
      ]
    },
    {
      "cell_type": "code",
      "execution_count": 73,
      "metadata": {
        "jupyter": {
          "outputs_hidden": false,
          "source_hidden": false
        },
        "nteract": {
          "transient": {
            "deleting": false
          }
        }
      },
      "outputs": [],
      "source": [
        "plt.figure(figsize=(10, 5))\n",
        "plt.plot(df_production.index, df_production['Palm Oil'])"
      ]
    },
    {
      "cell_type": "code",
      "execution_count": 64,
      "metadata": {
        "jupyter": {
          "outputs_hidden": false,
          "source_hidden": false
        },
        "nteract": {
          "transient": {
            "deleting": false
          }
        }
      },
      "outputs": [],
      "source": [
        "df = pd.merge(df_production, df_potash['Qty_kg/ha'], left_index=True, right_index=True, how='left')  # Use 'outer', 'left', or 'right' as needed\n",
        "df = pd.merge(df, df_weather_monthly, left_index=True, right_index=True, how='left')"
      ]
    },
    {
      "cell_type": "code",
      "execution_count": 65,
      "metadata": {
        "jupyter": {
          "outputs_hidden": false,
          "source_hidden": false
        },
        "nteract": {
          "transient": {
            "deleting": false
          }
        }
      },
      "outputs": [],
      "source": [
        "df"
      ]
    },
    {
      "cell_type": "code",
      "execution_count": 66,
      "metadata": {
        "jupyter": {
          "outputs_hidden": false,
          "source_hidden": false
        },
        "nteract": {
          "transient": {
            "deleting": false
          }
        }
      },
      "outputs": [],
      "source": [
        "# Mapping for replacements\n",
        "replacements = {\n",
        "    'Palm Oil': 'Palm_Oil',\n",
        "    'Qty': 'Potash_Qty',\n",
        "    'Et0_fao_evapotranspiration_': 'Evapo_',\n",
        "    'Precipitation_': 'Precip_',\n",
        "    'Sunshine_duration_': 'Sunshine_',\n",
        "    'Temperature_2m_avg_': 'Temp_avg_',\n",
        "    'Temperature_2m_max_': 'Temp_max_',\n",
        "    'Temperature_2m_min_': 'Temp_min_',\n",
        "    'Wind_speed_10m_max_': 'Wind_speed_',\n",
        "    'Days_temp_below_': \"Days_temp_below_\",\n",
        "    'Days_temp_above_': \"Days_temp_above_\",\n",
        "    'Amplitude': 'Amplitude'\n",
        "}\n",
        "\n",
        "# Correct renaming logic\n",
        "simplified_columns = []\n",
        "for col in df.columns:\n",
        "    new_col = col\n",
        "    for old, new in replacements.items():\n",
        "        if old in new_col:\n",
        "            new_col = new_col.replace(old, new)\n",
        "    simplified_columns.append(new_col)\n",
        "\n",
        "# Apply simplified column names\n",
        "df.columns = simplified_columns"
      ]
    },
    {
      "cell_type": "code",
      "execution_count": 67,
      "metadata": {
        "jupyter": {
          "outputs_hidden": false,
          "source_hidden": false
        },
        "nteract": {
          "transient": {
            "deleting": false
          }
        }
      },
      "outputs": [],
      "source": [
        "df.columns"
      ]
    },
    {
      "cell_type": "code",
      "execution_count": 68,
      "metadata": {
        "jupyter": {
          "outputs_hidden": false,
          "source_hidden": false
        },
        "nteract": {
          "transient": {
            "deleting": false
          }
        }
      },
      "outputs": [],
      "source": [
        "# Define weights for the regions\n",
        "weights = {\n",
        "    \"JOHOR\": 0.30,\n",
        "    \"PAHANG\": 0.20,\n",
        "    \"SABAH\": 0.25,\n",
        "    \"SARAWAK\": 0.25\n",
        "}\n",
        "\n",
        "weights = {key: float(value) for key, value in weights.items()}\n",
        "\n",
        "# List of weather-related columns to compute weighted averages\n",
        "weather_columns = [\n",
        "    \"Evapo\",\n",
        "    \"Precip_sum\",\n",
        "    \"Temp_min\",\n",
        "    \"Temp_max\",\n",
        "    \"Wind_speed\",\n",
        "    \"Sunshine\",\n",
        "    \"Temp_avg\",\n",
        "    \"Days_temp_below\",\n",
        "    \"Days_temp_above\",\n",
        "    \"Amplitude\"\n",
        "]\n",
        "\n",
        "for col in weather_columns:\n",
        "    for region in [\"JOHOR\", \"PAHANG\", \"SABAH\", \"SARAWAK\"]:\n",
        "        df[f\"{col}_{region}\"] = df[f\"{col}_{region}\"].astype(float)\n",
        "\n",
        "# Calculate weighted average for each weather-related parameter\n",
        "for col in weather_columns:\n",
        "    weighted_col_name = f\"{col}_weighted_avg\"\n",
        "    df[weighted_col_name] = (\n",
        "        df[f\"{col}_JOHOR\"] * weights[\"JOHOR\"] +\n",
        "        df[f\"{col}_PAHANG\"] * weights[\"PAHANG\"] +\n",
        "        df[f\"{col}_SABAH\"] * weights[\"SABAH\"] +\n",
        "        df[f\"{col}_SARAWAK\"] * weights[\"SARAWAK\"]\n",
        "    )"
      ]
    }
  ],
  "metadata": {
    "kernelspec": {
      "display_name": "Synapse PySpark",
      "name": "synapse_pyspark"
    },
    "language_info": {
      "name": "python"
    },
    "save_output": true,
    "synapse_widget": {
      "state": {},
      "version": "0.1"
    }
  },
  "nbformat": 4,
  "nbformat_minor": 2
}
