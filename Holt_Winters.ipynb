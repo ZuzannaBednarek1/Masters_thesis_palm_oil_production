{
  "cells": [
    {
      "cell_type": "code",
      "execution_count": null,
      "metadata": {},
      "outputs": [],
      "source": [
        "# Import required libraries\n",
        "import pandas as pd\n",
        "import numpy as np\n",
        "from statsmodels.graphics.tsaplots import plot_acf, plot_pacf\n",
        "from datetime import datetime\n",
        "import matplotlib.pyplot as plt\n",
        "import warnings\n",
        "from sklearn.metrics import mean_absolute_error\n",
        "# double and triple exponential smoothing\n",
        "from statsmodels.tsa.holtwinters import ExponentialSmoothing\n",
        "# Seasonality decomposition\n",
        "from statsmodels.tsa.seasonal import seasonal_decompose\n",
        "\n",
        "# Suppress warnings for cleaner outputs\n",
        "warnings.filterwarnings(\"ignore\")\n",
        "\n",
        "# Ensure plots are displayed inline\n",
        "%matplotlib inline\n",
        "\n",
        "from itertools import product"
      ]
    },
    {
      "cell_type": "markdown",
      "metadata": {
        "nteract": {
          "transient": {
            "deleting": false
          }
        }
      },
      "source": [
        "### Prepare the Dataset"
      ]
    },
    {
      "cell_type": "code",
      "execution_count": null,
      "metadata": {},
      "outputs": [],
      "source": [
        "# Load the data\n",
        "df = pd.read_excel('Dataset_palm_oil_forecasting.xlsx')\n",
        "df['Date'] = pd.to_datetime(df['Date'])\n",
        "df.set_index('Date', inplace=True)\n",
        "\n",
        "# Ensure the DataFrame is sorted by its index (date in this case)\n",
        "df = df.sort_index()\n",
        "\n",
        "# Split the dataset into training and testing sets\n",
        "train_end_date = '2018-12-01'\n",
        "testing_start_date = (pd.to_datetime(train_end_date) + pd.DateOffset(months=1)).strftime('%Y-%m-%d')  # Start testing 1 month after training ends\n",
        "testing_end_date = (pd.to_datetime(testing_start_date) + pd.DateOffset(months=11)).strftime('%Y-%m-%d')  # Testing ends 12 months later\n",
        "\n",
        "train_data = df[:train_end_date]  # Training data\n",
        "test_data = df[testing_start_date:testing_end_date]  # Testing data\n",
        "\n",
        "# Load additional areas data for later calculations\n",
        "area = pd.read_excel('Oil_Production_Raw_Data.xlsx', sheet_name='Area')\n",
        "area.set_index('Date', inplace=True)"
      ]
    },
    {
      "cell_type": "code",
      "execution_count": 109,
      "metadata": {},
      "outputs": [],
      "source": [
        "# Decomposing the time series (works if the index is a datetime object)\n",
        "decomposition = seasonal_decompose(df['Palm_Oil'], model='additive', period=12)  # Specify the period (e.g., 12 for monthly data)\n",
        "\n",
        "# Plot the decomposition\n",
        "decomposition.plot()\n",
        "plt.show()"
      ]
    },
    {
      "cell_type": "code",
      "execution_count": null,
      "metadata": {},
      "outputs": [],
      "source": [
        "# Define parameter grid\n",
        "trend_options = ['additive', 'multiplicative', None]\n",
        "seasonal_options = ['additive', 'multiplicative', None]\n",
        "best_mape = float('inf')\n",
        "best_params = None\n",
        "\n",
        "for trend, seasonal in product(trend_options, seasonal_options):\n",
        "    try:\n",
        "        model = ExponentialSmoothing(\n",
        "            train_data['Palm_Oil'],\n",
        "            trend=trend,\n",
        "            seasonal=seasonal,\n",
        "            seasonal_periods=12\n",
        "        )\n",
        "        hw_model = model.fit()\n",
        "        forecast = hw_model.forecast(steps=12)\n",
        "        # Calculate MAPE\n",
        "        mape = np.mean(np.abs((test_data['Palm_Oil'] - forecast) / test_data['Palm_Oil'])) * 100\n",
        "        if mape < best_mape:\n",
        "            best_mape = mape\n",
        "            best_params = (trend, seasonal)\n",
        "    except:\n",
        "        pass\n",
        "\n",
        "print(f\"Best Parameters: {best_params}, Best MAPE: {best_mape:.2f}%\")"
      ]
    },
    {
      "cell_type": "code",
      "execution_count": 111,
      "metadata": {},
      "outputs": [],
      "source": [
        "# Fit the Holt-Winters model on the training dataset\n",
        "model = ExponentialSmoothing(\n",
        "    train_data['Palm_Oil'],  # Training data\n",
        "    trend='additive',  # Adjust to 'multiplicative' if you observe multiplicative trends\n",
        "    seasonal='additive',  # Adjust to 'multiplicative' if seasonal patterns are multiplicative\n",
        "    seasonal_periods=12  # Monthly data (12 periods in a year)\n",
        ")\n",
        "hw_model = model.fit()\n",
        "\n",
        "# Forecast 12 months ahead\n",
        "forecast = hw_model.forecast(steps=12)\n",
        "\n",
        "# Plot the forecasted year and actual test data\n",
        "plt.figure(figsize=(12, 6))\n",
        "\n",
        "# Plot testing data (actual values)\n",
        "plt.plot(test_data.index, test_data['Palm_Oil'], label='Actual Testing Data', color='green')\n",
        "\n",
        "# Plot forecasted data\n",
        "plt.plot(forecast.index, forecast, label='Forecasted Data', color='black')\n",
        "\n",
        "# Add labels and legend\n",
        "plt.title(\"Palm Oil Production: Forecast vs Actual for Testing Year\")\n",
        "plt.xlabel(\"Date\")\n",
        "plt.ylabel(\"Palm Oil Production\")\n",
        "plt.legend(loc='best')\n",
        "plt.grid()\n",
        "plt.show()"
      ]
    },
    {
      "cell_type": "code",
      "execution_count": 112,
      "metadata": {},
      "outputs": [],
      "source": [
        "# Ensure the forecast and test data align properly\n",
        "actuals = test_data['Palm_Oil']\n",
        "forecasts = forecast\n",
        "\n",
        "# Calculate MAPE\n",
        "mape = np.mean(np.abs((actuals - forecasts) / actuals)) * 100\n",
        "\n",
        "# Display the MAPE value\n",
        "print(f\"Mean Absolute Percentage Error (MAPE): {mape:.2f}%\")"
      ]
    },
    {
      "cell_type": "code",
      "execution_count": 113,
      "metadata": {},
      "outputs": [],
      "source": [
        "forecast"
      ]
    },
    {
      "cell_type": "code",
      "execution_count": 114,
      "metadata": {},
      "outputs": [],
      "source": [
        "actual_values = test_data['Palm_Oil']\n",
        "\n",
        "comparison_df = pd.DataFrame({\n",
        "    'Date': forecast.index,\n",
        "    'ForecastValue': forecast.values,\n",
        "    'ActualValue': actual_values.values,\n",
        "})\n",
        "\n",
        "comparison_df['AbsoluteError'] = np.abs(comparison_df['ForecastValue'] - comparison_df['ActualValue'])\n",
        "comparison_df['APE'] = (comparison_df['AbsoluteError'] / comparison_df['ActualValue']) * 100\n",
        "\n",
        "comparison_df['CPO (T/ha) Forecast'] = comparison_df['ForecastValue'] * area['OER CPO'].iloc[0]  # Example calculation using area dataframe\n",
        "comparison_df['CPO (T/ha) Actuals'] = comparison_df['ActualValue'] * area['OER CPO'].iloc[0]\n",
        "comparison_df['TotalProductionForecast'] = comparison_df['CPO (T/ha) Forecast'] * (area['Mature area'].iloc[0] + 0.75 * area['Immature Area'].iloc[0])\n",
        "comparison_df['TotalProductionActuals'] = comparison_df['CPO (T/ha) Actuals'] * (area['Mature area'].iloc[0] + 0.75 * area['Immature Area'].iloc[0])"
      ]
    },
    {
      "cell_type": "code",
      "execution_count": 115,
      "metadata": {},
      "outputs": [],
      "source": [
        "# RMSE, MSE, and MAPE calculations\n",
        "mse = np.mean((comparison_df['ForecastValue'] - comparison_df['ActualValue'])**2)\n",
        "rmse = np.sqrt(mse)\n",
        "mape = np.mean(comparison_df['APE'])\n",
        "\n",
        "print(f\"MSE: {mse:.2f}, RMSE: {rmse:.2f}, MAPE: {mape:.2f}%\")"
      ]
    },
    {
      "cell_type": "code",
      "execution_count": 116,
      "metadata": {},
      "outputs": [],
      "source": [
        "# Adding Metadata and Metric Results\n",
        "training_start_date = train_data.index[0].strftime('%Y-%m-%d')\n",
        "training_end_date = train_end_date\n",
        "testing_start_date = testing_start_date\n",
        "testing_end_date = testing_end_date\n",
        "creation_date = pd.Timestamp('today').strftime('%Y-%m-%d')\n",
        "\n",
        "results = []  # Initialize results as a list of dictionaries\n",
        "\n",
        "for date, forecast_value, actual_value, absolute_error, ape, total_forecast, total_actuals in zip(\n",
        "    comparison_df['Date'],\n",
        "    comparison_df['ForecastValue'],\n",
        "    comparison_df['ActualValue'],\n",
        "    comparison_df['AbsoluteError'],\n",
        "    comparison_df['APE'],\n",
        "    comparison_df['TotalProductionForecast'],\n",
        "    comparison_df['TotalProductionActuals']\n",
        "):\n",
        "    results.append({\n",
        "        'Date': date.strftime('%Y-%m-%d'),\n",
        "        'ForecastValue': forecast_value,\n",
        "        'ActualValue': actual_value,\n",
        "        'ModelName': 'Holt-Winters',\n",
        "        'Variables': 'Palm_Oil',\n",
        "        'ModelParameters': 'trend=additive, seasonal=additive, seasonal_periods=12',\n",
        "        'TrainingStartDate': training_start_date,\n",
        "        'TrainingEndDate': training_end_date,\n",
        "        'TestingStartDate': testing_start_date,\n",
        "        'TestingEndDate': testing_end_date,\n",
        "        'RMSE': rmse,\n",
        "        'MAPE': ape / 100,\n",
        "        'MSE': mse,\n",
        "        'AbsoluteError': absolute_error,\n",
        "        'TotalProductionForecast': total_forecast,\n",
        "        'TotalProductionActuals': total_actuals,\n",
        "    })\n",
        "\n",
        "results_df = pd.DataFrame(results)"
      ]
    },
    {
      "cell_type": "code",
      "execution_count": 117,
      "metadata": {},
      "outputs": [],
      "source": [
        "results_df"
      ]
    },
    {
      "cell_type": "code",
      "execution_count": 118,
      "metadata": {},
      "outputs": [],
      "source": [
        "#all_results_df = pd.DataFrame(columns=results_df.columns)\n",
        "all_results_df = pd.concat([results_df, all_results_df], ignore_index=True) \n",
        "all_results_df"
      ]
    },
    {
      "cell_type": "code",
      "execution_count": 121,
      "metadata": {},
      "outputs": [],
      "source": [
        "# Format date columns for display\n",
        "\n",
        "all_results_df['Date'] = pd.to_datetime(all_results_df['Date']).dt.strftime('%d.%m.%Y')\n",
        "all_results_df['Creation_Date'] = datetime.now().strftime('%Y-%m-%d')\n",
        "all_results_df['Creation_Date'] = pd.to_datetime(all_results_df['Creation_Date']).dt.strftime('%d.%m.%Y')\n",
        "all_results_df['TrainingStartDate'] = pd.to_datetime(all_results_df['TrainingStartDate']).dt.strftime('%d.%m.%Y')\n",
        "all_results_df['TrainingEndDate'] = pd.to_datetime(all_results_df['TrainingEndDate']).dt.strftime('%d.%m.%Y')\n",
        "all_results_df['TestingStartDate'] = pd.to_datetime(all_results_df['TestingStartDate']).dt.strftime('%d.%m.%Y')\n",
        "all_results_df['TestingEndDate'] = pd.to_datetime(all_results_df['TestingEndDate']).dt.strftime('%d.%m.%Y')"
      ]
    },
    {
      "cell_type": "code",
      "execution_count": null,
      "metadata": {},
      "outputs": [],
      "source": [
        "all_results"
      ]
    },
    {
      "cell_type": "code",
      "execution_count": null,
      "metadata": {},
      "outputs": [],
      "source": [
        "all_results_df.to_excel('Holt_Winters_results.xlsx')"
      ]
    }
  ],
  "metadata": {
    "kernelspec": {
      "display_name": "Synapse PySpark",
      "name": "synapse_pyspark"
    },
    "language_info": {
      "name": "python"
    },
    "save_output": true
  },
  "nbformat": 4,
  "nbformat_minor": 2
}
